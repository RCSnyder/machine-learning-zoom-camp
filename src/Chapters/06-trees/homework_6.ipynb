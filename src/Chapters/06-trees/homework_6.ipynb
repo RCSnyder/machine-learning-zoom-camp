{
 "cells": [
  {
   "cell_type": "markdown",
   "metadata": {},
   "source": [
    "## 6.10 Homework\n",
    "\n",
    "The goal of this homework is to create a tree-based regression model for prediction apartment prices (column `'price'`).\n",
    "\n",
    "In this homework we'll again use the New York City Airbnb Open Data dataset - the same one we used in homework 2 and 3.\n",
    "\n",
    "You can take it from [Kaggle](https://www.kaggle.com/dgomonov/new-york-city-airbnb-open-data?select=AB_NYC_2019.csv)\n",
    "or download from [here](https://raw.githubusercontent.com/alexeygrigorev/datasets/master/AB_NYC_2019.csv)\n",
    "if you don't want to sign up to Kaggle.\n",
    "\n",
    "Let's load the data:"
   ]
  },
  {
   "cell_type": "code",
   "execution_count": 135,
   "metadata": {},
   "outputs": [],
   "source": [
    "import pandas as pd\n",
    "import numpy as np\n",
    "\n",
    "import matplotlib.pyplot as plt\n",
    "import seaborn as sns\n",
    "\n",
    "from pathlib import Path\n",
    "\n",
    "from sklearn.model_selection import train_test_split\n",
    "from sklearn.tree import DecisionTreeClassifier, DecisionTreeRegressor\n",
    "\n",
    "from sklearn.ensemble import RandomForestRegressor\n",
    "\n",
    "from sklearn.feature_extraction import DictVectorizer\n",
    "from sklearn.model_selection import cross_val_score\n",
    "from sklearn.metrics import roc_auc_score\n",
    "from sklearn.tree import export_text\n",
    "\n",
    "from sklearn.metrics import mean_squared_error\n",
    "\n",
    "%matplotlib inline\n",
    "\n",
    "import xgboost as xgb"
   ]
  },
  {
   "cell_type": "code",
   "execution_count": 5,
   "metadata": {},
   "outputs": [],
   "source": [
    "data_path = Path(\"Data/AB_NYC_2019.csv\")\n",
    "full_data_path = Path.cwd().parents[1].joinpath(data_path)\n",
    "df = pd.read_csv(full_data_path)"
   ]
  },
  {
   "cell_type": "code",
   "execution_count": 8,
   "metadata": {},
   "outputs": [],
   "source": [
    "columns = [\n",
    "    'neighbourhood_group', 'room_type', 'latitude', 'longitude',\n",
    "    'minimum_nights', 'number_of_reviews','reviews_per_month',\n",
    "    'calculated_host_listings_count', 'availability_365',\n",
    "    'price'\n",
    "]\n",
    "df = pd.read_csv(full_data_path, usecols=columns)\n",
    "df.reviews_per_month = df.reviews_per_month.fillna(0)"
   ]
  },
  {
   "cell_type": "markdown",
   "metadata": {},
   "source": [
    "* Apply the log tranform to `price`\n",
    "* Do train/validation/test split with 60%/20%/20% distribution. \n",
    "* Use the `train_test_split` function and set the `random_state` parameter to 1"
   ]
  },
  {
   "cell_type": "code",
   "execution_count": 11,
   "metadata": {},
   "outputs": [],
   "source": [
    "df['price'] = np.log1p(df.price)"
   ]
  },
  {
   "cell_type": "code",
   "execution_count": 13,
   "metadata": {},
   "outputs": [],
   "source": [
    "df_full_train, df_test = train_test_split(df, test_size=0.2, random_state=1)\n",
    "df_train, df_val = train_test_split(df_full_train, test_size=0.20, random_state=1)"
   ]
  },
  {
   "cell_type": "code",
   "execution_count": 19,
   "metadata": {},
   "outputs": [],
   "source": [
    "df_train = df_train.reset_index(drop=True)\n",
    "df_val = df_val.reset_index(drop=True)\n",
    "df_test = df_test.reset_index(drop=True)\n",
    "\n",
    "y_train = df_train.price.values\n",
    "y_val = df_val.price.values\n",
    "y_test = df_test.price.values\n",
    "\n",
    "del df_train['price']\n",
    "del df_val['price']\n",
    "del df_test['price']"
   ]
  },
  {
   "cell_type": "markdown",
   "metadata": {},
   "source": [
    "Now, use `DictVectorizer` to turn train and validation into matrices:"
   ]
  },
  {
   "cell_type": "code",
   "execution_count": 26,
   "metadata": {},
   "outputs": [],
   "source": [
    "train_dicts = df_train.to_dict(orient='records')\n",
    "dv = DictVectorizer(sparse=False)\n",
    "X_train = dv.fit_transform(train_dicts)"
   ]
  },
  {
   "cell_type": "code",
   "execution_count": 41,
   "metadata": {},
   "outputs": [],
   "source": [
    "val_dicts = df_val.to_dict(orient='records')\n",
    "X_val = dv.fit_transform(val_dicts)"
   ]
  },
  {
   "cell_type": "code",
   "execution_count": 42,
   "metadata": {},
   "outputs": [],
   "source": [
    "test_dicts = df_test.to_dict(orient='records')\n",
    "X_test = dv.fit_transform(test_dicts)"
   ]
  },
  {
   "cell_type": "markdown",
   "metadata": {},
   "source": [
    "## Question 1\n",
    "\n",
    "Let's train a decision tree regressor to predict the price variable. \n",
    "\n",
    "* Train a model with `max_depth=1`"
   ]
  },
  {
   "cell_type": "code",
   "execution_count": 100,
   "metadata": {},
   "outputs": [
    {
     "data": {
      "text/plain": [
       "DecisionTreeRegressor(max_depth=1)"
      ]
     },
     "execution_count": 100,
     "metadata": {},
     "output_type": "execute_result"
    }
   ],
   "source": [
    "dt = DecisionTreeRegressor(max_depth=1)\n",
    "dt.fit(X_train, y_train)"
   ]
  },
  {
   "cell_type": "markdown",
   "metadata": {},
   "source": [
    "Which feature is used for splitting the data?\n",
    "\n",
    "* `room_type`\n",
    "* `neighbourhood_group`\n",
    "* `number_of_reviews`\n",
    "* `reviews_per_month`"
   ]
  },
  {
   "cell_type": "code",
   "execution_count": 101,
   "metadata": {},
   "outputs": [
    {
     "name": "stdout",
     "output_type": "stream",
     "text": [
      "Score: 0.38680072900416795\n",
      "RMSE: 0.6219330582982127\n"
     ]
    }
   ],
   "source": [
    "score = dt.score(X_val, y_val)\n",
    "print(f\"Score: {score}\\nRMSE: {np.sqrt(score)}\")"
   ]
  },
  {
   "cell_type": "code",
   "execution_count": 102,
   "metadata": {},
   "outputs": [
    {
     "name": "stdout",
     "output_type": "stream",
     "text": [
      "|--- room_type=Entire home/apt <= 0.50\n",
      "|   |--- value: [4.29]\n",
      "|--- room_type=Entire home/apt >  0.50\n",
      "|   |--- value: [5.15]\n",
      "\n"
     ]
    }
   ],
   "source": [
    "print(export_text(dt, feature_names=dv.get_feature_names()))"
   ]
  },
  {
   "cell_type": "code",
   "execution_count": 186,
   "metadata": {},
   "outputs": [
    {
     "data": {
      "text/html": [
       "<div>\n",
       "<style scoped>\n",
       "    .dataframe tbody tr th:only-of-type {\n",
       "        vertical-align: middle;\n",
       "    }\n",
       "\n",
       "    .dataframe tbody tr th {\n",
       "        vertical-align: top;\n",
       "    }\n",
       "\n",
       "    .dataframe thead th {\n",
       "        text-align: right;\n",
       "    }\n",
       "</style>\n",
       "<table border=\"1\" class=\"dataframe\">\n",
       "  <thead>\n",
       "    <tr style=\"text-align: right;\">\n",
       "      <th></th>\n",
       "      <th>feature</th>\n",
       "      <th>gain</th>\n",
       "    </tr>\n",
       "  </thead>\n",
       "  <tbody>\n",
       "    <tr>\n",
       "      <th>12</th>\n",
       "      <td>room_type=Entire home/apt</td>\n",
       "      <td>1.0</td>\n",
       "    </tr>\n",
       "    <tr>\n",
       "      <th>0</th>\n",
       "      <td>availability_365</td>\n",
       "      <td>0.0</td>\n",
       "    </tr>\n",
       "    <tr>\n",
       "      <th>1</th>\n",
       "      <td>calculated_host_listings_count</td>\n",
       "      <td>0.0</td>\n",
       "    </tr>\n",
       "    <tr>\n",
       "      <th>2</th>\n",
       "      <td>latitude</td>\n",
       "      <td>0.0</td>\n",
       "    </tr>\n",
       "    <tr>\n",
       "      <th>3</th>\n",
       "      <td>longitude</td>\n",
       "      <td>0.0</td>\n",
       "    </tr>\n",
       "    <tr>\n",
       "      <th>4</th>\n",
       "      <td>minimum_nights</td>\n",
       "      <td>0.0</td>\n",
       "    </tr>\n",
       "    <tr>\n",
       "      <th>5</th>\n",
       "      <td>neighbourhood_group=Bronx</td>\n",
       "      <td>0.0</td>\n",
       "    </tr>\n",
       "    <tr>\n",
       "      <th>6</th>\n",
       "      <td>neighbourhood_group=Brooklyn</td>\n",
       "      <td>0.0</td>\n",
       "    </tr>\n",
       "    <tr>\n",
       "      <th>7</th>\n",
       "      <td>neighbourhood_group=Manhattan</td>\n",
       "      <td>0.0</td>\n",
       "    </tr>\n",
       "    <tr>\n",
       "      <th>8</th>\n",
       "      <td>neighbourhood_group=Queens</td>\n",
       "      <td>0.0</td>\n",
       "    </tr>\n",
       "    <tr>\n",
       "      <th>9</th>\n",
       "      <td>neighbourhood_group=Staten Island</td>\n",
       "      <td>0.0</td>\n",
       "    </tr>\n",
       "    <tr>\n",
       "      <th>10</th>\n",
       "      <td>number_of_reviews</td>\n",
       "      <td>0.0</td>\n",
       "    </tr>\n",
       "    <tr>\n",
       "      <th>11</th>\n",
       "      <td>reviews_per_month</td>\n",
       "      <td>0.0</td>\n",
       "    </tr>\n",
       "    <tr>\n",
       "      <th>13</th>\n",
       "      <td>room_type=Private room</td>\n",
       "      <td>0.0</td>\n",
       "    </tr>\n",
       "    <tr>\n",
       "      <th>14</th>\n",
       "      <td>room_type=Shared room</td>\n",
       "      <td>0.0</td>\n",
       "    </tr>\n",
       "  </tbody>\n",
       "</table>\n",
       "</div>"
      ],
      "text/plain": [
       "                              feature  gain\n",
       "12          room_type=Entire home/apt   1.0\n",
       "0                    availability_365   0.0\n",
       "1      calculated_host_listings_count   0.0\n",
       "2                            latitude   0.0\n",
       "3                           longitude   0.0\n",
       "4                      minimum_nights   0.0\n",
       "5           neighbourhood_group=Bronx   0.0\n",
       "6        neighbourhood_group=Brooklyn   0.0\n",
       "7       neighbourhood_group=Manhattan   0.0\n",
       "8          neighbourhood_group=Queens   0.0\n",
       "9   neighbourhood_group=Staten Island   0.0\n",
       "10                  number_of_reviews   0.0\n",
       "11                  reviews_per_month   0.0\n",
       "13             room_type=Private room   0.0\n",
       "14              room_type=Shared room   0.0"
      ]
     },
     "execution_count": 186,
     "metadata": {},
     "output_type": "execute_result"
    }
   ],
   "source": [
    "importances = list(zip(dv.feature_names_, dt.feature_importances_))\n",
    "df_importance = pd.DataFrame(importances, columns=['feature', 'gain'])\n",
    "df_importance = df_importance.sort_values(by='gain', ascending=False)\n",
    "df_importance"
   ]
  },
  {
   "cell_type": "markdown",
   "metadata": {},
   "source": [
    "### Answer: room_type"
   ]
  },
  {
   "cell_type": "markdown",
   "metadata": {},
   "source": [
    "## Question 2\n",
    "\n",
    "Train a random forest model with these parameters:\n",
    "\n",
    "* `n_estimators=10`\n",
    "* `random_state=1`\n",
    "* `n_jobs=-1`  (optional - to make training faster)"
   ]
  },
  {
   "cell_type": "code",
   "execution_count": 103,
   "metadata": {},
   "outputs": [
    {
     "data": {
      "text/plain": [
       "RandomForestRegressor(n_estimators=10, random_state=1)"
      ]
     },
     "execution_count": 103,
     "metadata": {},
     "output_type": "execute_result"
    }
   ],
   "source": [
    "dt_1 = RandomForestRegressor(n_estimators=10, random_state=1)\n",
    "dt_1.fit(X_train, y_train)"
   ]
  },
  {
   "cell_type": "code",
   "execution_count": 105,
   "metadata": {},
   "outputs": [
    {
     "name": "stdout",
     "output_type": "stream",
     "text": [
      "Score: 0.5696831330984111\n",
      "RMSE: 0.7547735641226521\n"
     ]
    }
   ],
   "source": [
    "score_1 = dt_1.score(X_val, y_val)\n",
    "print(f\"Score: {score_1}\\nRMSE: {np.sqrt(score_1)}\")"
   ]
  },
  {
   "cell_type": "code",
   "execution_count": 140,
   "metadata": {},
   "outputs": [
    {
     "name": "stdout",
     "output_type": "stream",
     "text": [
      "mean squared error: 0.46078067210100937\n"
     ]
    }
   ],
   "source": [
    "the_preds = dt_1.predict(X_val)\n",
    "mse = mean_squared_error(y_val, the_preds)\n",
    "rmse = np.sqrt(mse)\n",
    "print(f\"mean squared error: {rmse}\")"
   ]
  },
  {
   "cell_type": "code",
   "execution_count": 81,
   "metadata": {},
   "outputs": [],
   "source": [
    "#print(export_text(dt_1, feature_names=dv.get_feature_names()))"
   ]
  },
  {
   "cell_type": "markdown",
   "metadata": {},
   "source": [
    "What's the RMSE of this model on validation?\n",
    "\n",
    "* 0.059\n",
    "* 0.259\n",
    "* 0.459\n",
    "* 0.659"
   ]
  },
  {
   "cell_type": "markdown",
   "metadata": {},
   "source": [
    "### Answer: 0.459"
   ]
  },
  {
   "cell_type": "markdown",
   "metadata": {},
   "source": [
    "## Question 3\n",
    "\n",
    "Now let's experiment with the `n_estimators` parameter\n",
    "\n",
    "* Try different values of this parameter from 10 to 200 with step 10\n",
    "* Set `random_state` to `1`\n",
    "* Evaluate the model on the validation dataset"
   ]
  },
  {
   "cell_type": "code",
   "execution_count": 145,
   "metadata": {},
   "outputs": [
    {
     "name": "stdout",
     "output_type": "stream",
     "text": [
      "10\n",
      "Score:\t\t0.5696831330984111\n",
      "Sqrt score:\t0.7547735641226521\n",
      "RMSE:\t\t0.46078067210100937\n",
      "20\n",
      "Score:\t\t0.5936348119914736\n",
      "Sqrt score:\t0.7704770028959161\n",
      "RMSE:\t\t0.4477734275103014\n",
      "30\n",
      "Score:\t\t0.60138658014209\n",
      "Sqrt score:\t0.7754911863729271\n",
      "RMSE:\t\t0.44348203033518463\n",
      "40\n",
      "Score:\t\t0.6037115011095424\n",
      "Sqrt score:\t0.776988739371133\n",
      "RMSE:\t\t0.4421868299723399\n",
      "50\n",
      "Score:\t\t0.6050196730939559\n",
      "Sqrt score:\t0.7778301055461635\n",
      "RMSE:\t\t0.4414563841054784\n",
      "60\n",
      "Score:\t\t0.6059672027700074\n",
      "Sqrt score:\t0.7784389525004561\n",
      "RMSE:\t\t0.4409265549453157\n",
      "70\n",
      "Score:\t\t0.6073443428260729\n",
      "Sqrt score:\t0.7793230028852433\n",
      "RMSE:\t\t0.44015536393193144\n",
      "80\n",
      "Score:\t\t0.6083625172577785\n",
      "Sqrt score:\t0.7799759722310543\n",
      "RMSE:\t\t0.43958432181362317\n",
      "90\n",
      "Score:\t\t0.6087654298079224\n",
      "Sqrt score:\t0.78023421471243\n",
      "RMSE:\t\t0.43935814374764653\n",
      "100\n",
      "Score:\t\t0.6091744640095509\n",
      "Sqrt score:\t0.7804962933989827\n",
      "RMSE:\t\t0.43912841008144876\n",
      "110\n",
      "Score:\t\t0.6099199471096015\n",
      "Sqrt score:\t0.7809737172975807\n",
      "RMSE:\t\t0.4387094007857012\n",
      "120\n",
      "Score:\t\t0.6103125361775483\n",
      "Sqrt score:\t0.7812250227543588\n",
      "RMSE:\t\t0.4384885796101772\n",
      "130\n",
      "Score:\t\t0.61102900921372\n",
      "Sqrt score:\t0.781683445656693\n",
      "RMSE:\t\t0.43808529516967026\n",
      "140\n",
      "Score:\t\t0.6112991848730096\n",
      "Sqrt score:\t0.7818562430990812\n",
      "RMSE:\t\t0.43793312374001275\n",
      "150\n",
      "Score:\t\t0.6113180530592741\n",
      "Sqrt score:\t0.7818683092818599\n",
      "RMSE:\t\t0.4379224946086783\n",
      "160\n",
      "Score:\t\t0.6115137079036631\n",
      "Sqrt score:\t0.7819934193480551\n",
      "RMSE:\t\t0.4378122599508284\n",
      "170\n",
      "Score:\t\t0.611863393526315\n",
      "Sqrt score:\t0.782216973432765\n",
      "RMSE:\t\t0.4376151730486301\n",
      "180\n",
      "Score:\t\t0.6118461026505266\n",
      "Sqrt score:\t0.7822059208741178\n",
      "RMSE:\t\t0.4376249204741554\n",
      "190\n",
      "Score:\t\t0.6121067098626132\n",
      "Sqrt score:\t0.7823724879254211\n",
      "RMSE:\t\t0.4374779847346011\n"
     ]
    }
   ],
   "source": [
    "random_state = 1\n",
    "for n in range(10, 200, 10):\n",
    "    dt_n = RandomForestRegressor(n_estimators=n, random_state=random_state, n_jobs=-1)\n",
    "    dt_n.fit(X_train, y_train)\n",
    "    score_n = dt_n.score(X_val, y_val)\n",
    "    \n",
    "    y_preds = dt_n.predict(X_val)\n",
    "    mse = mean_squared_error(y_val, y_preds)\n",
    "    rmse = np.sqrt(mse)\n",
    "    \n",
    "    print(f\"{n}\\nScore:\\t\\t{score_n}\\nSqrt score:\\t{np.sqrt(score_n)}\\nRMSE:\\t\\t{rmse}\")"
   ]
  },
  {
   "cell_type": "markdown",
   "metadata": {},
   "source": [
    "After which value of `n_estimators` does RMSE stop improving?\n",
    "\n",
    "- 10\n",
    "- 50\n",
    "- 70\n",
    "- 120"
   ]
  },
  {
   "cell_type": "markdown",
   "metadata": {},
   "source": [
    "### Answer: 50"
   ]
  },
  {
   "cell_type": "markdown",
   "metadata": {},
   "source": [
    "## Question 4\n",
    "\n",
    "Let's select the best `max_depth`:\n",
    "\n",
    "* Try different values of `max_depth`: `[10, 15, 20, 25]`\n",
    "* For each of these values, try different values of `n_estimators` from 10 till 200 (with step 10)\n",
    "* Fix the random seed: `random_state=1`"
   ]
  },
  {
   "cell_type": "code",
   "execution_count": 147,
   "metadata": {},
   "outputs": [
    {
     "name": "stdout",
     "output_type": "stream",
     "text": [
      "10\n",
      "Score:\t\t0.5968271359847189\n",
      "Sqrt score:\t0.7725458795338429\n",
      "RMSE:\t\t0.4460111502229752\n",
      "15\n",
      "Score:\t\t0.5858870415877189\n",
      "Sqrt score:\t0.7654325846132491\n",
      "RMSE:\t\t0.4520219032808204\n",
      "20\n",
      "Score:\t\t0.5741183271151935\n",
      "Sqrt score:\t0.7577059634945429\n",
      "RMSE:\t\t0.45839993242631316\n",
      "25\n",
      "Score:\t\t0.5693713369234609\n",
      "Sqrt score:\t0.7545669863726221\n",
      "RMSE:\t\t0.46094757659246827\n"
     ]
    }
   ],
   "source": [
    "random_state = 1\n",
    "for d in [10, 15, 20, 25]:\n",
    "    dt_n = RandomForestRegressor(n_estimators=10, max_depth=d, random_state=random_state)\n",
    "    dt_n.fit(X_train, y_train)\n",
    "    score_n = dt_n.score(X_val, y_val)\n",
    "    \n",
    "    y_preds = dt_n.predict(X_val)\n",
    "    mse = mean_squared_error(y_val, y_preds)\n",
    "    rmse = np.sqrt(mse)\n",
    "    \n",
    "    print(f\"{d}\\nScore:\\t\\t{score_n}\\nSqrt score:\\t{np.sqrt(score_n)}\\nRMSE:\\t\\t{rmse}\")"
   ]
  },
  {
   "cell_type": "markdown",
   "metadata": {},
   "source": [
    "What's the best `max_depth`:\n",
    "\n",
    "* 10\n",
    "* 15\n",
    "* 20\n",
    "* 25\n",
    "\n",
    "Bonus question (not graded):\n",
    "\n",
    "Will the answer be different if we change the seed for the model?"
   ]
  },
  {
   "cell_type": "markdown",
   "metadata": {},
   "source": [
    "### Answer: 10\n",
    "\n",
    "Yes, the seed changes how the randomness is so the values will change slightly"
   ]
  },
  {
   "cell_type": "markdown",
   "metadata": {},
   "source": [
    "## Question 5\n",
    "\n",
    "We can extract feature importance information from tree-based models. \n",
    "\n",
    "At each step of the decision tree learning algorith, it finds the best split. \n",
    "When doint it, we can calculate \"gain\" - the reduction in impurity before and after the split. \n",
    "This gain is quite useful in understanding what are the imporatant features \n",
    "for tree-based models.\n",
    "\n",
    "In Scikit-Learn, tree-based models contain this information in the `feature_importances_` field. \n",
    "\n",
    "For this homework question, we'll find the most important feature:\n",
    "\n",
    "* Train the model with these parametes:\n",
    "    * `n_estimators=10`,\n",
    "    * `max_depth=20`,\n",
    "    * `random_state=1`,\n",
    "    * `n_jobs=-1` (optional)\n",
    "* Get the feature importance information from this model"
   ]
  },
  {
   "cell_type": "code",
   "execution_count": 187,
   "metadata": {},
   "outputs": [
    {
     "name": "stdout",
     "output_type": "stream",
     "text": [
      "\n",
      "Score:\t\t0.5968271359847189\n",
      "Sqrt score:\t0.7725458795338429\n",
      "RMSE:\t\t0.46094757659246827\n"
     ]
    }
   ],
   "source": [
    "dt_2 = RandomForestRegressor(n_estimators=10, max_depth=10, random_state=1)\n",
    "dt_2.fit(X_train, y_train)\n",
    "score_2 = dt_2.score(X_val, y_val)\n",
    "\n",
    "y_preds = dt_n.predict(X_val)\n",
    "mse = mean_squared_error(y_val, y_preds)\n",
    "rmse = np.sqrt(mse)\n",
    "\n",
    "# print(f\"\\nScore:\\t{score_2}\\nRMSE:\\t{np.sqrt(score_2)}\\n\")\n",
    "print(f\"\\nScore:\\t\\t{score_2}\\nSqrt score:\\t{np.sqrt(score_2)}\\nRMSE:\\t\\t{rmse}\")"
   ]
  },
  {
   "cell_type": "code",
   "execution_count": 149,
   "metadata": {},
   "outputs": [
    {
     "data": {
      "text/plain": [
       "Index(['neighbourhood_group', 'latitude', 'longitude', 'room_type',\n",
       "       'minimum_nights', 'number_of_reviews', 'reviews_per_month',\n",
       "       'calculated_host_listings_count', 'availability_365'],\n",
       "      dtype='object')"
      ]
     },
     "execution_count": 149,
     "metadata": {},
     "output_type": "execute_result"
    }
   ],
   "source": [
    "df_train.columns"
   ]
  },
  {
   "cell_type": "code",
   "execution_count": 165,
   "metadata": {},
   "outputs": [
    {
     "data": {
      "text/html": [
       "<div>\n",
       "<style scoped>\n",
       "    .dataframe tbody tr th:only-of-type {\n",
       "        vertical-align: middle;\n",
       "    }\n",
       "\n",
       "    .dataframe tbody tr th {\n",
       "        vertical-align: top;\n",
       "    }\n",
       "\n",
       "    .dataframe thead th {\n",
       "        text-align: right;\n",
       "    }\n",
       "</style>\n",
       "<table border=\"1\" class=\"dataframe\">\n",
       "  <thead>\n",
       "    <tr style=\"text-align: right;\">\n",
       "      <th></th>\n",
       "      <th>feature</th>\n",
       "      <th>gain</th>\n",
       "    </tr>\n",
       "  </thead>\n",
       "  <tbody>\n",
       "    <tr>\n",
       "      <th>12</th>\n",
       "      <td>room_type=Entire home/apt</td>\n",
       "      <td>0.392559</td>\n",
       "    </tr>\n",
       "    <tr>\n",
       "      <th>3</th>\n",
       "      <td>longitude</td>\n",
       "      <td>0.157973</td>\n",
       "    </tr>\n",
       "    <tr>\n",
       "      <th>2</th>\n",
       "      <td>latitude</td>\n",
       "      <td>0.146059</td>\n",
       "    </tr>\n",
       "    <tr>\n",
       "      <th>0</th>\n",
       "      <td>availability_365</td>\n",
       "      <td>0.075834</td>\n",
       "    </tr>\n",
       "    <tr>\n",
       "      <th>4</th>\n",
       "      <td>minimum_nights</td>\n",
       "      <td>0.053561</td>\n",
       "    </tr>\n",
       "    <tr>\n",
       "      <th>11</th>\n",
       "      <td>reviews_per_month</td>\n",
       "      <td>0.053065</td>\n",
       "    </tr>\n",
       "    <tr>\n",
       "      <th>10</th>\n",
       "      <td>number_of_reviews</td>\n",
       "      <td>0.043375</td>\n",
       "    </tr>\n",
       "    <tr>\n",
       "      <th>7</th>\n",
       "      <td>neighbourhood_group=Manhattan</td>\n",
       "      <td>0.035097</td>\n",
       "    </tr>\n",
       "    <tr>\n",
       "      <th>1</th>\n",
       "      <td>calculated_host_listings_count</td>\n",
       "      <td>0.030951</td>\n",
       "    </tr>\n",
       "    <tr>\n",
       "      <th>14</th>\n",
       "      <td>room_type=Shared room</td>\n",
       "      <td>0.005957</td>\n",
       "    </tr>\n",
       "    <tr>\n",
       "      <th>13</th>\n",
       "      <td>room_type=Private room</td>\n",
       "      <td>0.003175</td>\n",
       "    </tr>\n",
       "    <tr>\n",
       "      <th>6</th>\n",
       "      <td>neighbourhood_group=Brooklyn</td>\n",
       "      <td>0.001044</td>\n",
       "    </tr>\n",
       "    <tr>\n",
       "      <th>8</th>\n",
       "      <td>neighbourhood_group=Queens</td>\n",
       "      <td>0.000920</td>\n",
       "    </tr>\n",
       "    <tr>\n",
       "      <th>5</th>\n",
       "      <td>neighbourhood_group=Bronx</td>\n",
       "      <td>0.000340</td>\n",
       "    </tr>\n",
       "    <tr>\n",
       "      <th>9</th>\n",
       "      <td>neighbourhood_group=Staten Island</td>\n",
       "      <td>0.000090</td>\n",
       "    </tr>\n",
       "  </tbody>\n",
       "</table>\n",
       "</div>"
      ],
      "text/plain": [
       "                              feature      gain\n",
       "12          room_type=Entire home/apt  0.392559\n",
       "3                           longitude  0.157973\n",
       "2                            latitude  0.146059\n",
       "0                    availability_365  0.075834\n",
       "4                      minimum_nights  0.053561\n",
       "11                  reviews_per_month  0.053065\n",
       "10                  number_of_reviews  0.043375\n",
       "7       neighbourhood_group=Manhattan  0.035097\n",
       "1      calculated_host_listings_count  0.030951\n",
       "14              room_type=Shared room  0.005957\n",
       "13             room_type=Private room  0.003175\n",
       "6        neighbourhood_group=Brooklyn  0.001044\n",
       "8          neighbourhood_group=Queens  0.000920\n",
       "5           neighbourhood_group=Bronx  0.000340\n",
       "9   neighbourhood_group=Staten Island  0.000090"
      ]
     },
     "execution_count": 165,
     "metadata": {},
     "output_type": "execute_result"
    }
   ],
   "source": [
    "importances = list(zip(dv.feature_names_, dt_2.feature_importances_))\n",
    "df_importance = pd.DataFrame(importances, columns=['feature', 'gain'])\n",
    "df_importance = df_importance.sort_values(by='gain', ascending=False)\n",
    "df_importance"
   ]
  },
  {
   "cell_type": "code",
   "execution_count": 169,
   "metadata": {},
   "outputs": [
    {
     "data": {
      "image/png": "[encoded data removed]",
      "text/plain": [
       "<Figure size 432x288 with 1 Axes>"
      ]
     },
     "metadata": {
      "needs_background": "light"
     },
     "output_type": "display_data"
    }
   ],
   "source": [
    "df_importance = df_importance[df_importance.gain > 0.01]\n",
    "\n",
    "num = len(df_importance)\n",
    "plt.barh(range(num), df_importance.gain[::-1])\n",
    "plt.yticks(range(num), df_importance.feature[::-1])\n",
    "\n",
    "plt.show()"
   ]
  },
  {
   "cell_type": "code",
   "execution_count": 177,
   "metadata": {},
   "outputs": [
    {
     "data": {
      "text/html": [
       "<div>\n",
       "<style scoped>\n",
       "    .dataframe tbody tr th:only-of-type {\n",
       "        vertical-align: middle;\n",
       "    }\n",
       "\n",
       "    .dataframe tbody tr th {\n",
       "        vertical-align: top;\n",
       "    }\n",
       "\n",
       "    .dataframe thead th {\n",
       "        text-align: right;\n",
       "    }\n",
       "</style>\n",
       "<table border=\"1\" class=\"dataframe\">\n",
       "  <thead>\n",
       "    <tr style=\"text-align: right;\">\n",
       "      <th></th>\n",
       "      <th>feature</th>\n",
       "      <th>gain</th>\n",
       "    </tr>\n",
       "  </thead>\n",
       "  <tbody>\n",
       "    <tr>\n",
       "      <th>12</th>\n",
       "      <td>room_type=Entire home/apt</td>\n",
       "      <td>0.392559</td>\n",
       "    </tr>\n",
       "    <tr>\n",
       "      <th>3</th>\n",
       "      <td>longitude</td>\n",
       "      <td>0.157973</td>\n",
       "    </tr>\n",
       "    <tr>\n",
       "      <th>2</th>\n",
       "      <td>latitude</td>\n",
       "      <td>0.146059</td>\n",
       "    </tr>\n",
       "    <tr>\n",
       "      <th>0</th>\n",
       "      <td>availability_365</td>\n",
       "      <td>0.075834</td>\n",
       "    </tr>\n",
       "    <tr>\n",
       "      <th>4</th>\n",
       "      <td>minimum_nights</td>\n",
       "      <td>0.053561</td>\n",
       "    </tr>\n",
       "    <tr>\n",
       "      <th>11</th>\n",
       "      <td>reviews_per_month</td>\n",
       "      <td>0.053065</td>\n",
       "    </tr>\n",
       "    <tr>\n",
       "      <th>10</th>\n",
       "      <td>number_of_reviews</td>\n",
       "      <td>0.043375</td>\n",
       "    </tr>\n",
       "    <tr>\n",
       "      <th>7</th>\n",
       "      <td>neighbourhood_group=Manhattan</td>\n",
       "      <td>0.035097</td>\n",
       "    </tr>\n",
       "    <tr>\n",
       "      <th>1</th>\n",
       "      <td>calculated_host_listings_count</td>\n",
       "      <td>0.030951</td>\n",
       "    </tr>\n",
       "  </tbody>\n",
       "</table>\n",
       "</div>"
      ],
      "text/plain": [
       "                           feature      gain\n",
       "12       room_type=Entire home/apt  0.392559\n",
       "3                        longitude  0.157973\n",
       "2                         latitude  0.146059\n",
       "0                 availability_365  0.075834\n",
       "4                   minimum_nights  0.053561\n",
       "11               reviews_per_month  0.053065\n",
       "10               number_of_reviews  0.043375\n",
       "7    neighbourhood_group=Manhattan  0.035097\n",
       "1   calculated_host_listings_count  0.030951"
      ]
     },
     "execution_count": 177,
     "metadata": {},
     "output_type": "execute_result"
    }
   ],
   "source": [
    "df_importance"
   ]
  },
  {
   "cell_type": "code",
   "execution_count": 180,
   "metadata": {},
   "outputs": [
    {
     "data": {
      "text/plain": [
       "<AxesSubplot:>"
      ]
     },
     "execution_count": 180,
     "metadata": {},
     "output_type": "execute_result"
    },
    {
     "data": {
      "image/png": "[encoded data removed]",
      "text/plain": [
       "<Figure size 432x288 with 2 Axes>"
      ]
     },
     "metadata": {
      "needs_background": "light"
     },
     "output_type": "display_data"
    }
   ],
   "source": [
    "sns.heatmap(df_importance.gain.values.reshape(9,1), annot=True)"
   ]
  },
  {
   "cell_type": "markdown",
   "metadata": {},
   "source": [
    "What's the most important feature? \n",
    "\n",
    "* `neighbourhood_group=Manhattan`\n",
    "* `room_type=Entire home/apt`\t\n",
    "* `longitude`\n",
    "* `latitude`"
   ]
  },
  {
   "cell_type": "markdown",
   "metadata": {},
   "source": [
    "### Answer: room_type=Entire home/apt"
   ]
  },
  {
   "cell_type": "markdown",
   "metadata": {},
   "source": [
    "## Question 6"
   ]
  },
  {
   "cell_type": "markdown",
   "metadata": {},
   "source": [
    "Now let's train an XGBoost model! For this question, we'll tune the `eta` parameter\n",
    "\n",
    "* Install XGBoost\n",
    "* Create DMatrix for train and validation\n",
    "* Create a watchlist\n",
    "* Train a model with these parameters for 100 rounds:\n",
    "\n",
    "```\n",
    "xgb_params = {\n",
    "    'eta': 0.3, \n",
    "    'max_depth': 6,\n",
    "    'min_child_weight': 1,\n",
    "    \n",
    "    'objective': 'reg:squarederror',\n",
    "    'nthread': 8,\n",
    "    \n",
    "    'seed': 1,\n",
    "    'verbosity': 1,\n",
    "}\n",
    "```"
   ]
  },
  {
   "cell_type": "code",
   "execution_count": 124,
   "metadata": {},
   "outputs": [],
   "source": [
    "feats = dv.get_feature_names()\n",
    "dtrain = xgb.DMatrix(X_train, label=y_train, feature_names=feats)\n",
    "dval = xgb.DMatrix(X_val, label=y_val, feature_names=feats)"
   ]
  },
  {
   "cell_type": "code",
   "execution_count": 154,
   "metadata": {},
   "outputs": [],
   "source": [
    "watchlist = [(dtrain, 'train'), (dval, 'val')]"
   ]
  },
  {
   "cell_type": "markdown",
   "metadata": {},
   "source": [
    "Now change `eta` first to `0.1` and then to `0.01`"
   ]
  },
  {
   "cell_type": "code",
   "execution_count": 159,
   "metadata": {},
   "outputs": [
    {
     "name": "stdout",
     "output_type": "stream",
     "text": [
      "[0]\ttrain-rmse:3.02703\tval-rmse:3.02557\n",
      "[10]\ttrain-rmse:0.43985\tval-rmse:0.45201\n",
      "[20]\ttrain-rmse:0.41479\tval-rmse:0.43897\n",
      "[30]\ttrain-rmse:0.40647\tval-rmse:0.43867\n",
      "[40]\ttrain-rmse:0.39886\tval-rmse:0.43733\n",
      "[50]\ttrain-rmse:0.39283\tval-rmse:0.43734\n",
      "[60]\ttrain-rmse:0.38735\tval-rmse:0.43758\n",
      "[70]\ttrain-rmse:0.38157\tval-rmse:0.43712\n",
      "[80]\ttrain-rmse:0.37542\tval-rmse:0.43784\n",
      "[90]\ttrain-rmse:0.37120\tval-rmse:0.43795\n",
      "[99]\ttrain-rmse:0.36756\tval-rmse:0.43724\n"
     ]
    }
   ],
   "source": [
    "xgb_params = {\n",
    "    'eta': 0.3, \n",
    "    'max_depth': 6,\n",
    "    'min_child_weight': 1,\n",
    "\n",
    "    'objective': 'reg:squarederror',\n",
    "    'nthread': 8,\n",
    "\n",
    "    'seed': 1,\n",
    "    'verbosity': 1,\n",
    "}\n",
    "dst = xgb.train(xgb_params, dtrain, num_boost_round=100, verbose_eval=10, evals=watchlist)"
   ]
  },
  {
   "cell_type": "code",
   "execution_count": 132,
   "metadata": {},
   "outputs": [
    {
     "data": {
      "text/plain": [
       "<AxesSubplot:title={'center':'Feature importance'}, xlabel='F score', ylabel='Features'>"
      ]
     },
     "execution_count": 132,
     "metadata": {},
     "output_type": "execute_result"
    },
    {
     "data": {
      "image/png": "[encoded data removed]",
      "text/plain": [
       "<Figure size 432x288 with 1 Axes>"
      ]
     },
     "metadata": {
      "needs_background": "light"
     },
     "output_type": "display_data"
    }
   ],
   "source": [
    "xgb.plot_importance(dst)"
   ]
  },
  {
   "cell_type": "code",
   "execution_count": null,
   "metadata": {},
   "outputs": [],
   "source": []
  },
  {
   "cell_type": "code",
   "execution_count": 151,
   "metadata": {},
   "outputs": [
    {
     "data": {
      "text/plain": [
       "0.43723814828957047"
      ]
     },
     "execution_count": 151,
     "metadata": {},
     "output_type": "execute_result"
    }
   ],
   "source": [
    "y_pred = dst.predict(dval)\n",
    "mse = mean_squared_error(y_val, y_pred)\n",
    "rmse = np.sqrt(mse)\n",
    "rmse"
   ]
  },
  {
   "cell_type": "code",
   "execution_count": 181,
   "metadata": {},
   "outputs": [
    {
     "data": {
      "text/plain": [
       "[('room_type=Entire home/apt', 2497.2699229300015),\n",
       " ('neighbourhood_group=Manhattan', 282.08073463092455),\n",
       " ('longitude', 65.4403541602901),\n",
       " ('latitude', 26.269073464200844),\n",
       " ('room_type=Private room', 13.638017190820282),\n",
       " ('availability_365', 10.035478209349103),\n",
       " ('minimum_nights', 6.196768102079046),\n",
       " ('number_of_reviews', 4.545859487049239),\n",
       " ('calculated_host_listings_count', 4.289826330249326),\n",
       " ('neighbourhood_group=Queens', 3.6774902349999996),\n",
       " ('reviews_per_month', 3.0430886192453586),\n",
       " ('neighbourhood_group=Bronx', 0.8904418944999999)]"
      ]
     },
     "execution_count": 181,
     "metadata": {},
     "output_type": "execute_result"
    }
   ],
   "source": [
    "scores = dst.get_score(importance_type='gain')\n",
    "scores = sorted(scores.items(), key=lambda x: x[1])\n",
    "list(reversed(scores))"
   ]
  },
  {
   "cell_type": "code",
   "execution_count": 183,
   "metadata": {},
   "outputs": [
    {
     "data": {
      "text/plain": [
       "[('latitude', 878),\n",
       " ('availability_365', 842),\n",
       " ('minimum_nights', 689),\n",
       " ('longitude', 556),\n",
       " ('number_of_reviews', 398),\n",
       " ('reviews_per_month', 291),\n",
       " ('calculated_host_listings_count', 283),\n",
       " ('room_type=Private room', 212),\n",
       " ('room_type=Entire home/apt', 100),\n",
       " ('neighbourhood_group=Manhattan', 53),\n",
       " ('neighbourhood_group=Bronx', 6),\n",
       " ('neighbourhood_group=Queens', 2)]"
      ]
     },
     "execution_count": 183,
     "metadata": {},
     "output_type": "execute_result"
    }
   ],
   "source": [
    "scores = dst.get_score(importance_type='weight')\n",
    "scores = sorted(scores.items(), key=lambda x: x[1])\n",
    "list(reversed(scores))"
   ]
  },
  {
   "cell_type": "code",
   "execution_count": 185,
   "metadata": {},
   "outputs": [
    {
     "data": {
      "image/png": "[encoded data removed]",
      "text/plain": [
       "<Figure size 432x576 with 1 Axes>"
      ]
     },
     "metadata": {
      "needs_background": "light"
     },
     "output_type": "display_data"
    }
   ],
   "source": [
    "names = [n for (n, s) in scores]\n",
    "scores = [s for (n, s) in scores]\n",
    "\n",
    "plt.figure(figsize=(6, 8))\n",
    "\n",
    "plt.barh(np.arange(len(scores)), scores)\n",
    "plt.yticks(np.arange(len(names)), names)\n",
    "\n",
    "plt.show()"
   ]
  },
  {
   "cell_type": "markdown",
   "metadata": {},
   "source": [
    "Which eta leads to the best RMSE score on the validation dataset?\n",
    "\n",
    "* 0.3\n",
    "* 0.1\n",
    "* 0.01"
   ]
  },
  {
   "cell_type": "markdown",
   "metadata": {},
   "source": [
    "### Answer: .3"
   ]
  },
  {
   "cell_type": "code",
   "execution_count": 160,
   "metadata": {},
   "outputs": [
    {
     "name": "stdout",
     "output_type": "stream",
     "text": [
      "[0]\ttrain-rmse:3.02703\tval-rmse:3.02557\n",
      "[30]\ttrain-rmse:0.40647\tval-rmse:0.43867\n",
      "[60]\ttrain-rmse:0.38735\tval-rmse:0.43758\n",
      "[90]\ttrain-rmse:0.37120\tval-rmse:0.43795\n",
      "[99]\ttrain-rmse:0.36756\tval-rmse:0.43724\n",
      "ETA: 0.3\n",
      "RMSE: 0.43723814828957047\n",
      "\n",
      "[0]\ttrain-rmse:3.87166\tval-rmse:3.87023\n",
      "[30]\ttrain-rmse:0.46183\tval-rmse:0.47202\n",
      "[60]\ttrain-rmse:0.41492\tval-rmse:0.43612\n",
      "[90]\ttrain-rmse:0.40656\tval-rmse:0.43480\n",
      "[99]\ttrain-rmse:0.40467\tval-rmse:0.43459\n",
      "ETA: 0.1\n",
      "RMSE: 0.4345855408382242\n",
      "\n",
      "[0]\ttrain-rmse:4.25284\tval-rmse:4.25141\n",
      "[30]\ttrain-rmse:3.16283\tval-rmse:3.16127\n",
      "[60]\ttrain-rmse:2.36122\tval-rmse:2.36019\n",
      "[90]\ttrain-rmse:1.77431\tval-rmse:1.77389\n",
      "[99]\ttrain-rmse:1.63155\tval-rmse:1.63129\n",
      "ETA: 0.01\n",
      "RMSE: 1.631293499371654\n",
      "\n"
     ]
    }
   ],
   "source": [
    "\n",
    "\n",
    "for eta in [.3, .1, .01]:\n",
    "    xgb_params[\"eta\"] = eta\n",
    "    dst = xgb.train(xgb_params, dtrain, num_boost_round=100, verbose_eval=5, evals=watchlist)\n",
    "    y_pred = dst.predict(dval)\n",
    "    mse = mean_squared_error(y_val, y_pred)\n",
    "    rmse = np.sqrt(mse)\n",
    "    print(f\"ETA: {eta}\\nRMSE: {rmse}\\n\")"
   ]
  },
  {
   "cell_type": "markdown",
   "metadata": {},
   "source": [
    "## Submit the results\n",
    "\n",
    "\n",
    "Submit your results here: https://forms.gle/wQgFkYE6CtdDed4w8\n",
    "\n",
    "It's possible that your answers won't match exactly. If it's the case, select the closest one.\n",
    "\n",
    "\n",
    "## Deadline\n",
    "\n",
    "\n",
    "The deadline for submitting is 20 October 2021, 17:00 CET (Wednesday). After that, the form will be closed.\n",
    "\n"
   ]
  }
 ],
 "metadata": {
  "kernelspec": {
   "display_name": "Python 3 (ipykernel)",
   "language": "python",
   "name": "python3"
  },
  "language_info": {
   "codemirror_mode": {
    "name": "ipython",
    "version": 3
   },
   "file_extension": ".py",
   "mimetype": "text/x-python",
   "name": "python",
   "nbconvert_exporter": "python",
   "pygments_lexer": "ipython3",
   "version": "3.9.7"
  }
 },
 "nbformat": 4,
 "nbformat_minor": 2
}
