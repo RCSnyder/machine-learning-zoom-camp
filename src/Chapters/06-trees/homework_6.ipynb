{
 "cells": [
  {
   "cell_type": "markdown",
   "metadata": {},
   "source": [
    "## 6.10 Homework\n",
    "\n",
    "The goal of this homework is to create a tree-based regression model for prediction apartment prices (column `'price'`).\n",
    "\n",
    "In this homework we'll again use the New York City Airbnb Open Data dataset - the same one we used in homework 2 and 3.\n",
    "\n",
    "You can take it from [Kaggle](https://www.kaggle.com/dgomonov/new-york-city-airbnb-open-data?select=AB_NYC_2019.csv)\n",
    "or download from [here](https://raw.githubusercontent.com/alexeygrigorev/datasets/master/AB_NYC_2019.csv)\n",
    "if you don't want to sign up to Kaggle.\n",
    "\n",
    "Let's load the data:"
   ]
  },
  {
   "cell_type": "code",
   "execution_count": 135,
   "metadata": {},
   "outputs": [],
   "source": [
    "import pandas as pd\n",
    "import numpy as np\n",
    "\n",
    "import matplotlib.pyplot as plt\n",
    "import seaborn as sns\n",
    "\n",
    "from pathlib import Path\n",
    "\n",
    "from sklearn.model_selection import train_test_split\n",
    "from sklearn.tree import DecisionTreeClassifier, DecisionTreeRegressor\n",
    "\n",
    "from sklearn.ensemble import RandomForestRegressor\n",
    "\n",
    "from sklearn.feature_extraction import DictVectorizer\n",
    "from sklearn.model_selection import cross_val_score\n",
    "from sklearn.metrics import roc_auc_score\n",
    "from sklearn.tree import export_text\n",
    "\n",
    "from sklearn.metrics import mean_squared_error\n",
    "\n",
    "%matplotlib inline\n",
    "\n",
    "import xgboost as xgb"
   ]
  },
  {
   "cell_type": "code",
   "execution_count": 5,
   "metadata": {},
   "outputs": [],
   "source": [
    "data_path = Path(\"Data/AB_NYC_2019.csv\")\n",
    "full_data_path = Path.cwd().parents[1].joinpath(data_path)\n",
    "df = pd.read_csv(full_data_path)"
   ]
  },
  {
   "cell_type": "code",
   "execution_count": 8,
   "metadata": {},
   "outputs": [],
   "source": [
    "columns = [\n",
    "    'neighbourhood_group', 'room_type', 'latitude', 'longitude',\n",
    "    'minimum_nights', 'number_of_reviews','reviews_per_month',\n",
    "    'calculated_host_listings_count', 'availability_365',\n",
    "    'price'\n",
    "]\n",
    "df = pd.read_csv(full_data_path, usecols=columns)\n",
    "df.reviews_per_month = df.reviews_per_month.fillna(0)"
   ]
  },
  {
   "cell_type": "markdown",
   "metadata": {},
   "source": [
    "* Apply the log tranform to `price`\n",
    "* Do train/validation/test split with 60%/20%/20% distribution. \n",
    "* Use the `train_test_split` function and set the `random_state` parameter to 1"
   ]
  },
  {
   "cell_type": "code",
   "execution_count": 11,
   "metadata": {},
   "outputs": [],
   "source": [
    "df['price'] = np.log1p(df.price)"
   ]
  },
  {
   "cell_type": "code",
   "execution_count": 13,
   "metadata": {},
   "outputs": [],
   "source": [
    "df_full_train, df_test = train_test_split(df, test_size=0.2, random_state=1)\n",
    "df_train, df_val = train_test_split(df_full_train, test_size=0.20, random_state=1)"
   ]
  },
  {
   "cell_type": "code",
   "execution_count": 19,
   "metadata": {},
   "outputs": [],
   "source": [
    "df_train = df_train.reset_index(drop=True)\n",
    "df_val = df_val.reset_index(drop=True)\n",
    "df_test = df_test.reset_index(drop=True)\n",
    "\n",
    "y_train = df_train.price.values\n",
    "y_val = df_val.price.values\n",
    "y_test = df_test.price.values\n",
    "\n",
    "del df_train['price']\n",
    "del df_val['price']\n",
    "del df_test['price']"
   ]
  },
  {
   "cell_type": "markdown",
   "metadata": {},
   "source": [
    "Now, use `DictVectorizer` to turn train and validation into matrices:"
   ]
  },
  {
   "cell_type": "code",
   "execution_count": 26,
   "metadata": {},
   "outputs": [],
   "source": [
    "train_dicts = df_train.to_dict(orient='records')\n",
    "dv = DictVectorizer(sparse=False)\n",
    "X_train = dv.fit_transform(train_dicts)"
   ]
  },
  {
   "cell_type": "code",
   "execution_count": 41,
   "metadata": {},
   "outputs": [],
   "source": [
    "val_dicts = df_val.to_dict(orient='records')\n",
    "X_val = dv.fit_transform(val_dicts)"
   ]
  },
  {
   "cell_type": "code",
   "execution_count": 42,
   "metadata": {},
   "outputs": [],
   "source": [
    "test_dicts = df_test.to_dict(orient='records')\n",
    "X_test = dv.fit_transform(test_dicts)"
   ]
  },
  {
   "cell_type": "markdown",
   "metadata": {},
   "source": [
    "## Question 1\n",
    "\n",
    "Let's train a decision tree regressor to predict the price variable. \n",
    "\n",
    "* Train a model with `max_depth=1`"
   ]
  },
  {
   "cell_type": "code",
   "execution_count": 100,
   "metadata": {},
   "outputs": [
    {
     "data": {
      "text/plain": [
       "DecisionTreeRegressor(max_depth=1)"
      ]
     },
     "execution_count": 100,
     "metadata": {},
     "output_type": "execute_result"
    }
   ],
   "source": [
    "dt = DecisionTreeRegressor(max_depth=1)\n",
    "dt.fit(X_train, y_train)"
   ]
  },
  {
   "cell_type": "markdown",
   "metadata": {},
   "source": [
    "Which feature is used for splitting the data?\n",
    "\n",
    "* `room_type`\n",
    "* `neighbourhood_group`\n",
    "* `number_of_reviews`\n",
    "* `reviews_per_month`"
   ]
  },
  {
   "cell_type": "code",
   "execution_count": 101,
   "metadata": {},
   "outputs": [
    {
     "name": "stdout",
     "output_type": "stream",
     "text": [
      "Score: 0.38680072900416795\n",
      "RMSE: 0.6219330582982127\n"
     ]
    }
   ],
   "source": [
    "score = dt.score(X_val, y_val)\n",
    "print(f\"Score: {score}\\nRMSE: {np.sqrt(score)}\")"
   ]
  },
  {
   "cell_type": "code",
   "execution_count": 102,
   "metadata": {},
   "outputs": [
    {
     "name": "stdout",
     "output_type": "stream",
     "text": [
      "|--- room_type=Entire home/apt <= 0.50\n",
      "|   |--- value: [4.29]\n",
      "|--- room_type=Entire home/apt >  0.50\n",
      "|   |--- value: [5.15]\n",
      "\n"
     ]
    }
   ],
   "source": [
    "print(export_text(dt, feature_names=dv.get_feature_names()))"
   ]
  },
  {
   "cell_type": "markdown",
   "metadata": {},
   "source": [
    "### Answer: room_type"
   ]
  },
  {
   "cell_type": "markdown",
   "metadata": {},
   "source": [
    "## Question 2\n",
    "\n",
    "Train a random forest model with these parameters:\n",
    "\n",
    "* `n_estimators=10`\n",
    "* `random_state=1`\n",
    "* `n_jobs=-1`  (optional - to make training faster)"
   ]
  },
  {
   "cell_type": "code",
   "execution_count": 103,
   "metadata": {},
   "outputs": [
    {
     "data": {
      "text/plain": [
       "RandomForestRegressor(n_estimators=10, random_state=1)"
      ]
     },
     "execution_count": 103,
     "metadata": {},
     "output_type": "execute_result"
    }
   ],
   "source": [
    "dt_1 = RandomForestRegressor(n_estimators=10, random_state=1)\n",
    "dt_1.fit(X_train, y_train)"
   ]
  },
  {
   "cell_type": "code",
   "execution_count": 105,
   "metadata": {},
   "outputs": [
    {
     "name": "stdout",
     "output_type": "stream",
     "text": [
      "Score: 0.5696831330984111\n",
      "RMSE: 0.7547735641226521\n"
     ]
    }
   ],
   "source": [
    "score_1 = dt_1.score(X_val, y_val)\n",
    "print(f\"Score: {score_1}\\nRMSE: {np.sqrt(score_1)}\")"
   ]
  },
  {
   "cell_type": "code",
   "execution_count": 140,
   "metadata": {},
   "outputs": [
    {
     "name": "stdout",
     "output_type": "stream",
     "text": [
      "mean squared error: 0.46078067210100937\n"
     ]
    }
   ],
   "source": [
    "the_preds = dt_1.predict(X_val)\n",
    "mse = mean_squared_error(y_val, the_preds)\n",
    "rmse = np.sqrt(mse)\n",
    "print(f\"mean squared error: {rmse}\")"
   ]
  },
  {
   "cell_type": "code",
   "execution_count": 81,
   "metadata": {},
   "outputs": [],
   "source": [
    "#print(export_text(dt_1, feature_names=dv.get_feature_names()))"
   ]
  },
  {
   "cell_type": "markdown",
   "metadata": {},
   "source": [
    "What's the RMSE of this model on validation?\n",
    "\n",
    "* 0.059\n",
    "* 0.259\n",
    "* 0.459\n",
    "* 0.659"
   ]
  },
  {
   "cell_type": "markdown",
   "metadata": {},
   "source": [
    "### Answer: 0.459"
   ]
  },
  {
   "cell_type": "markdown",
   "metadata": {},
   "source": [
    "## Question 3\n",
    "\n",
    "Now let's experiment with the `n_estimators` parameter\n",
    "\n",
    "* Try different values of this parameter from 10 to 200 with step 10\n",
    "* Set `random_state` to `1`\n",
    "* Evaluate the model on the validation dataset"
   ]
  },
  {
   "cell_type": "code",
   "execution_count": 145,
   "metadata": {},
   "outputs": [
    {
     "name": "stdout",
     "output_type": "stream",
     "text": [
      "10\n",
      "Score:\t\t0.5696831330984111\n",
      "Sqrt score:\t0.7547735641226521\n",
      "RMSE:\t\t0.46078067210100937\n",
      "20\n",
      "Score:\t\t0.5936348119914736\n",
      "Sqrt score:\t0.7704770028959161\n",
      "RMSE:\t\t0.4477734275103014\n",
      "30\n",
      "Score:\t\t0.60138658014209\n",
      "Sqrt score:\t0.7754911863729271\n",
      "RMSE:\t\t0.44348203033518463\n",
      "40\n",
      "Score:\t\t0.6037115011095424\n",
      "Sqrt score:\t0.776988739371133\n",
      "RMSE:\t\t0.4421868299723399\n",
      "50\n",
      "Score:\t\t0.6050196730939559\n",
      "Sqrt score:\t0.7778301055461635\n",
      "RMSE:\t\t0.4414563841054784\n",
      "60\n",
      "Score:\t\t0.6059672027700074\n",
      "Sqrt score:\t0.7784389525004561\n",
      "RMSE:\t\t0.4409265549453157\n",
      "70\n",
      "Score:\t\t0.6073443428260729\n",
      "Sqrt score:\t0.7793230028852433\n",
      "RMSE:\t\t0.44015536393193144\n",
      "80\n",
      "Score:\t\t0.6083625172577785\n",
      "Sqrt score:\t0.7799759722310543\n",
      "RMSE:\t\t0.43958432181362317\n",
      "90\n",
      "Score:\t\t0.6087654298079224\n",
      "Sqrt score:\t0.78023421471243\n",
      "RMSE:\t\t0.43935814374764653\n",
      "100\n",
      "Score:\t\t0.6091744640095509\n",
      "Sqrt score:\t0.7804962933989827\n",
      "RMSE:\t\t0.43912841008144876\n",
      "110\n",
      "Score:\t\t0.6099199471096015\n",
      "Sqrt score:\t0.7809737172975807\n",
      "RMSE:\t\t0.4387094007857012\n",
      "120\n",
      "Score:\t\t0.6103125361775483\n",
      "Sqrt score:\t0.7812250227543588\n",
      "RMSE:\t\t0.4384885796101772\n",
      "130\n",
      "Score:\t\t0.61102900921372\n",
      "Sqrt score:\t0.781683445656693\n",
      "RMSE:\t\t0.43808529516967026\n",
      "140\n",
      "Score:\t\t0.6112991848730096\n",
      "Sqrt score:\t0.7818562430990812\n",
      "RMSE:\t\t0.43793312374001275\n",
      "150\n",
      "Score:\t\t0.6113180530592741\n",
      "Sqrt score:\t0.7818683092818599\n",
      "RMSE:\t\t0.4379224946086783\n",
      "160\n",
      "Score:\t\t0.6115137079036631\n",
      "Sqrt score:\t0.7819934193480551\n",
      "RMSE:\t\t0.4378122599508284\n",
      "170\n",
      "Score:\t\t0.611863393526315\n",
      "Sqrt score:\t0.782216973432765\n",
      "RMSE:\t\t0.4376151730486301\n",
      "180\n",
      "Score:\t\t0.6118461026505266\n",
      "Sqrt score:\t0.7822059208741178\n",
      "RMSE:\t\t0.4376249204741554\n",
      "190\n",
      "Score:\t\t0.6121067098626132\n",
      "Sqrt score:\t0.7823724879254211\n",
      "RMSE:\t\t0.4374779847346011\n"
     ]
    }
   ],
   "source": [
    "random_state = 1\n",
    "for n in range(10, 200, 10):\n",
    "    dt_n = RandomForestRegressor(n_estimators=n, random_state=random_state, n_jobs=-1)\n",
    "    dt_n.fit(X_train, y_train)\n",
    "    score_n = dt_n.score(X_val, y_val)\n",
    "    \n",
    "    y_preds = dt_n.predict(X_val)\n",
    "    mse = mean_squared_error(y_val, y_preds)\n",
    "    rmse = np.sqrt(mse)\n",
    "    \n",
    "    print(f\"{n}\\nScore:\\t\\t{score_n}\\nSqrt score:\\t{np.sqrt(score_n)}\\nRMSE:\\t\\t{rmse}\")"
   ]
  },
  {
   "cell_type": "markdown",
   "metadata": {},
   "source": [
    "After which value of `n_estimators` does RMSE stop improving?\n",
    "\n",
    "- 10\n",
    "- 50\n",
    "- 70\n",
    "- 120"
   ]
  },
  {
   "cell_type": "markdown",
   "metadata": {},
   "source": [
    "### Answer: 70"
   ]
  },
  {
   "cell_type": "markdown",
   "metadata": {},
   "source": [
    "## Question 4\n",
    "\n",
    "Let's select the best `max_depth`:\n",
    "\n",
    "* Try different values of `max_depth`: `[10, 15, 20, 25]`\n",
    "* For each of these values, try different values of `n_estimators` from 10 till 200 (with step 10)\n",
    "* Fix the random seed: `random_state=1`"
   ]
  },
  {
   "cell_type": "code",
   "execution_count": 147,
   "metadata": {},
   "outputs": [
    {
     "name": "stdout",
     "output_type": "stream",
     "text": [
      "10\n",
      "Score:\t\t0.5968271359847189\n",
      "Sqrt score:\t0.7725458795338429\n",
      "RMSE:\t\t0.4460111502229752\n",
      "15\n",
      "Score:\t\t0.5858870415877189\n",
      "Sqrt score:\t0.7654325846132491\n",
      "RMSE:\t\t0.4520219032808204\n",
      "20\n",
      "Score:\t\t0.5741183271151935\n",
      "Sqrt score:\t0.7577059634945429\n",
      "RMSE:\t\t0.45839993242631316\n",
      "25\n",
      "Score:\t\t0.5693713369234609\n",
      "Sqrt score:\t0.7545669863726221\n",
      "RMSE:\t\t0.46094757659246827\n"
     ]
    }
   ],
   "source": [
    "random_state = 1\n",
    "for d in [10, 15, 20, 25]:\n",
    "    dt_n = RandomForestRegressor(n_estimators=10, max_depth=d, random_state=random_state)\n",
    "    dt_n.fit(X_train, y_train)\n",
    "    score_n = dt_n.score(X_val, y_val)\n",
    "    \n",
    "    y_preds = dt_n.predict(X_val)\n",
    "    mse = mean_squared_error(y_val, y_preds)\n",
    "    rmse = np.sqrt(mse)\n",
    "    \n",
    "    print(f\"{d}\\nScore:\\t\\t{score_n}\\nSqrt score:\\t{np.sqrt(score_n)}\\nRMSE:\\t\\t{rmse}\")"
   ]
  },
  {
   "cell_type": "markdown",
   "metadata": {},
   "source": [
    "What's the best `max_depth`:\n",
    "\n",
    "* 10\n",
    "* 15\n",
    "* 20\n",
    "* 25\n",
    "\n",
    "Bonus question (not graded):\n",
    "\n",
    "Will the answer be different if we change the seed for the model?"
   ]
  },
  {
   "cell_type": "markdown",
   "metadata": {},
   "source": [
    "### Answer: 25\n",
    "\n",
    "Yes, the seed changes how the randomness is so the values will change slightly"
   ]
  },
  {
   "cell_type": "markdown",
   "metadata": {},
   "source": [
    "## Question 5\n",
    "\n",
    "We can extract feature importance information from tree-based models. \n",
    "\n",
    "At each step of the decision tree learning algorith, it finds the best split. \n",
    "When doint it, we can calculate \"gain\" - the reduction in impurity before and after the split. \n",
    "This gain is quite useful in understanding what are the imporatant features \n",
    "for tree-based models.\n",
    "\n",
    "In Scikit-Learn, tree-based models contain this information in the `feature_importances_` field. \n",
    "\n",
    "For this homework question, we'll find the most important feature:\n",
    "\n",
    "* Train the model with these parametes:\n",
    "    * `n_estimators=10`,\n",
    "    * `max_depth=20`,\n",
    "    * `random_state=1`,\n",
    "    * `n_jobs=-1` (optional)\n",
    "* Get the feature importance information from this model"
   ]
  },
  {
   "cell_type": "code",
   "execution_count": 148,
   "metadata": {},
   "outputs": [
    {
     "name": "stdout",
     "output_type": "stream",
     "text": [
      "\n",
      "Score:\t\t0.5741183271151935\n",
      "Sqrt score:\t0.7577059634945429\n",
      "RMSE:\t\t0.46094757659246827\n"
     ]
    }
   ],
   "source": [
    "dt_2 = RandomForestRegressor(n_estimators=10, max_depth=20, random_state=1)\n",
    "dt_2.fit(X_train, y_train)\n",
    "score_2 = dt_2.score(X_val, y_val)\n",
    "\n",
    "y_preds = dt_n.predict(X_val)\n",
    "mse = mean_squared_error(y_val, y_preds)\n",
    "rmse = np.sqrt(mse)\n",
    "\n",
    "# print(f\"\\nScore:\\t{score_2}\\nRMSE:\\t{np.sqrt(score_2)}\\n\")\n",
    "print(f\"\\nScore:\\t\\t{score_2}\\nSqrt score:\\t{np.sqrt(score_2)}\\nRMSE:\\t\\t{rmse}\")"
   ]
  },
  {
   "cell_type": "code",
   "execution_count": 149,
   "metadata": {},
   "outputs": [
    {
     "data": {
      "text/plain": [
       "Index(['neighbourhood_group', 'latitude', 'longitude', 'room_type',\n",
       "       'minimum_nights', 'number_of_reviews', 'reviews_per_month',\n",
       "       'calculated_host_listings_count', 'availability_365'],\n",
       "      dtype='object')"
      ]
     },
     "execution_count": 149,
     "metadata": {},
     "output_type": "execute_result"
    }
   ],
   "source": [
    "df_train.columns"
   ]
  },
  {
   "cell_type": "code",
   "execution_count": 150,
   "metadata": {},
   "outputs": [
    {
     "data": {
      "text/plain": [
       "<AxesSubplot:>"
      ]
     },
     "execution_count": 150,
     "metadata": {},
     "output_type": "execute_result"
    },
    {
     "data": {
      "image/png": "[encoded data removed]",
      "text/plain": [
       "<Figure size 432x288 with 2 Axes>"
      ]
     },
     "metadata": {
      "needs_background": "light"
     },
     "output_type": "display_data"
    }
   ],
   "source": [
    "sns.heatmap(dt_2.feature_importances_.reshape(15,1), annot=True)"
   ]
  },
  {
   "cell_type": "markdown",
   "metadata": {},
   "source": [
    "What's the most important feature? \n",
    "\n",
    "* `neighbourhood_group=Manhattan`\n",
    "* `room_type=Entire home/apt`\t\n",
    "* `longitude`\n",
    "* `latitude`"
   ]
  },
  {
   "cell_type": "markdown",
   "metadata": {},
   "source": [
    "### Answer: longitude"
   ]
  },
  {
   "cell_type": "markdown",
   "metadata": {},
   "source": [
    "## Question 6"
   ]
  },
  {
   "cell_type": "markdown",
   "metadata": {},
   "source": [
    "Now let's train an XGBoost model! For this question, we'll tune the `eta` parameter\n",
    "\n",
    "* Install XGBoost\n",
    "* Create DMatrix for train and validation\n",
    "* Create a watchlist\n",
    "* Train a model with these parameters for 100 rounds:\n",
    "\n",
    "```\n",
    "xgb_params = {\n",
    "    'eta': 0.3, \n",
    "    'max_depth': 6,\n",
    "    'min_child_weight': 1,\n",
    "    \n",
    "    'objective': 'reg:squarederror',\n",
    "    'nthread': 8,\n",
    "    \n",
    "    'seed': 1,\n",
    "    'verbosity': 1,\n",
    "}\n",
    "```"
   ]
  },
  {
   "cell_type": "code",
   "execution_count": 124,
   "metadata": {},
   "outputs": [],
   "source": [
    "feats = dv.get_feature_names()\n",
    "dtrain = xgb.DMatrix(X_train, label=y_train, feature_names=feats)\n",
    "dval = xgb.DMatrix(X_val, label=y_val, feature_names=feats)"
   ]
  },
  {
   "cell_type": "markdown",
   "metadata": {},
   "source": [
    "Now change `eta` first to `0.1` and then to `0.01`"
   ]
  },
  {
   "cell_type": "code",
   "execution_count": 131,
   "metadata": {},
   "outputs": [],
   "source": [
    "xgb_params = {\n",
    "    'eta': 0.3, \n",
    "    'max_depth': 6,\n",
    "    'min_child_weight': 1,\n",
    "\n",
    "    'objective': 'reg:squarederror',\n",
    "    'nthread': 8,\n",
    "\n",
    "    'seed': 1,\n",
    "    'verbosity': 1,\n",
    "}\n",
    "dst = xgb.train(xgb_params, dtrain, num_boost_round=100)"
   ]
  },
  {
   "cell_type": "code",
   "execution_count": 132,
   "metadata": {},
   "outputs": [
    {
     "data": {
      "text/plain": [
       "<AxesSubplot:title={'center':'Feature importance'}, xlabel='F score', ylabel='Features'>"
      ]
     },
     "execution_count": 132,
     "metadata": {},
     "output_type": "execute_result"
    },
    {
     "data": {
      "image/png": "[encoded data removed]",
      "text/plain": [
       "<Figure size 432x288 with 1 Axes>"
      ]
     },
     "metadata": {
      "needs_background": "light"
     },
     "output_type": "display_data"
    }
   ],
   "source": [
    "xgb.plot_importance(dst)"
   ]
  },
  {
   "cell_type": "code",
   "execution_count": 151,
   "metadata": {},
   "outputs": [
    {
     "data": {
      "text/plain": [
       "0.43723814828957047"
      ]
     },
     "execution_count": 151,
     "metadata": {},
     "output_type": "execute_result"
    }
   ],
   "source": [
    "y_pred = dst.predict(dval)\n",
    "mse = mean_squared_error(y_val, y_pred)\n",
    "rmse = np.sqrt(mse)\n",
    "rmse"
   ]
  },
  {
   "cell_type": "markdown",
   "metadata": {},
   "source": [
    "Which eta leads to the best RMSE score on the validation dataset?\n",
    "\n",
    "* 0.3\n",
    "* 0.1\n",
    "* 0.01"
   ]
  },
  {
   "cell_type": "code",
   "execution_count": null,
   "metadata": {},
   "outputs": [],
   "source": [
    "### Answer "
   ]
  },
  {
   "cell_type": "code",
   "execution_count": 152,
   "metadata": {},
   "outputs": [
    {
     "name": "stdout",
     "output_type": "stream",
     "text": [
      "ETA: 0.3\n",
      "RMSE: 0.43723814828957047\n",
      "\n",
      "ETA: 0.1\n",
      "RMSE: 0.4345855408382242\n",
      "\n",
      "ETA: 0.01\n",
      "RMSE: 1.631293499371654\n",
      "\n"
     ]
    }
   ],
   "source": [
    "for eta in [.3, .1, .01]:\n",
    "    xgb_params[\"eta\"] = eta\n",
    "    dst = xgb.train(xgb_params, dtrain, num_boost_round=100)\n",
    "    y_pred = dst.predict(dval)\n",
    "    mse = mean_squared_error(y_val, y_pred)\n",
    "    rmse = np.sqrt(mse)\n",
    "    print(f\"ETA: {eta}\\nRMSE: {rmse}\\n\")"
   ]
  },
  {
   "cell_type": "markdown",
   "metadata": {},
   "source": [
    "## Submit the results\n",
    "\n",
    "\n",
    "Submit your results here: https://forms.gle/wQgFkYE6CtdDed4w8\n",
    "\n",
    "It's possible that your answers won't match exactly. If it's the case, select the closest one.\n",
    "\n",
    "\n",
    "## Deadline\n",
    "\n",
    "\n",
    "The deadline for submitting is 20 October 2021, 17:00 CET (Wednesday). After that, the form will be closed.\n",
    "\n"
   ]
  }
 ],
 "metadata": {
  "kernelspec": {
   "display_name": "Python 3 (ipykernel)",
   "language": "python",
   "name": "python3"
  },
  "language_info": {
   "codemirror_mode": {
    "name": "ipython",
    "version": 3
   },
   "file_extension": ".py",
   "mimetype": "text/x-python",
   "name": "python",
   "nbconvert_exporter": "python",
   "pygments_lexer": "ipython3",
   "version": "3.9.7"
  }
 },
 "nbformat": 4,
 "nbformat_minor": 2
}
