{
 "cells": [
  {
   "cell_type": "code",
   "execution_count": 21,
   "id": "ddcb603e",
   "metadata": {},
   "outputs": [],
   "source": [
    "import pickle\n",
    "import numpy as np\n",
    "from flask import Flask, request, jsonify\n",
    "import requests"
   ]
  },
  {
   "cell_type": "markdown",
   "id": "44a1183f",
   "metadata": {},
   "source": [
    "### Question 1\n",
    "Install Pipenv\n",
    "What's the version of pipenv you installed?\n",
    "Use --version to find out"
   ]
  },
  {
   "cell_type": "markdown",
   "id": "d3b1398b",
   "metadata": {},
   "source": [
    "Version 2021.5.29"
   ]
  },
  {
   "cell_type": "markdown",
   "id": "b90c6463",
   "metadata": {},
   "source": [
    "### Question 2\n",
    "- Use Pipenv to install Scikit-Learn version 1.0\n",
    "- What's the first hash for scikit-learn you get in Pipfile.lock?"
   ]
  },
  {
   "cell_type": "markdown",
   "id": "c21ef8b4",
   "metadata": {},
   "source": [
    "\"sha256:038f4e9d6ef10e1f3fe82addc3a14735c299866eb10f2c77c090410904828312\""
   ]
  },
  {
   "cell_type": "markdown",
   "id": "ef641052",
   "metadata": {},
   "source": [
    "### Question 3\n",
    "Let's use these models!\n",
    "\n",
    "Write a script for loading these models with pickle\n",
    "Score this customer:\n",
    "\n",
    "```\n",
    "{\"contract\": \"two_year\", \"tenure\": 12, \"monthlycharges\": 19.7}\n",
    "```\n",
    "\n",
    "What's the probability that this customer is churning?\n",
    "\n",
    "If you're getting errors when unpickling the files, check their checksum:\n",
    "\n",
    "```\n",
    "$ md5sum model1.bin dv.bin\n",
    "5868e129bfbb309ba60bf750263afab1  model1.bin\n",
    "c49b69f8a5a3c560882ff5daa3c0ff4d  dv.bin\n",
    "```"
   ]
  },
  {
   "cell_type": "code",
   "execution_count": 11,
   "id": "0c2503dd",
   "metadata": {},
   "outputs": [
    {
     "name": "stderr",
     "output_type": "stream",
     "text": [
      "C:\\Users\\Cooper\\Documents\\GitHub\\machine-learning-zoom-camp\\env\\lib\\site-packages\\sklearn\\base.py:310: UserWarning: Trying to unpickle estimator LogisticRegression from version 1.0 when using version 0.24.2. This might lead to breaking code or invalid results. Use at your own risk.\n",
      "  warnings.warn(\n",
      "C:\\Users\\Cooper\\Documents\\GitHub\\machine-learning-zoom-camp\\env\\lib\\site-packages\\sklearn\\base.py:310: UserWarning: Trying to unpickle estimator DictVectorizer from version 1.0 when using version 0.24.2. This might lead to breaking code or invalid results. Use at your own risk.\n",
      "  warnings.warn(\n"
     ]
    }
   ],
   "source": [
    "with open('model1.bin', 'rb') as f_in:\n",
    "    model = pickle.load(f_in)\n",
    "    \n",
    "with open('dv.bin', 'rb') as f_in:\n",
    "    dv = pickle.load(f_in)"
   ]
  },
  {
   "cell_type": "code",
   "execution_count": 6,
   "id": "d2d3107d",
   "metadata": {},
   "outputs": [],
   "source": [
    "def predict_single(customer, dv, model):\n",
    "    X = dv.transform([customer])\n",
    "    y_pred = model.predict_proba(X)[:, 1]\n",
    "    return y_pred[0]"
   ]
  },
  {
   "cell_type": "code",
   "execution_count": 7,
   "id": "6e007ca0",
   "metadata": {},
   "outputs": [],
   "source": [
    "test_customer = {\"contract\": \"two_year\", \"tenure\": 12, \"monthlycharges\": 19.7}"
   ]
  },
  {
   "cell_type": "code",
   "execution_count": 9,
   "id": "2a976353",
   "metadata": {},
   "outputs": [],
   "source": [
    "prediction = predict_single(test_customer, dv, model)\n",
    "churn = prediction >= 0.5\n",
    "\n",
    "result = {\n",
    "    'churn_probability': float(prediction),\n",
    "    'churn': bool(churn),\n",
    "}"
   ]
  },
  {
   "cell_type": "code",
   "execution_count": 10,
   "id": "8824ba41",
   "metadata": {},
   "outputs": [
    {
     "data": {
      "text/plain": [
       "{'churn_probability': 0.11549580587832894, 'churn': False}"
      ]
     },
     "execution_count": 10,
     "metadata": {},
     "output_type": "execute_result"
    }
   ],
   "source": [
    "result"
   ]
  },
  {
   "cell_type": "markdown",
   "id": "c53afedf",
   "metadata": {},
   "source": [
    "### Answer: 11.5% churn probability"
   ]
  },
  {
   "cell_type": "markdown",
   "id": "6ded76bb",
   "metadata": {},
   "source": [
    "### Question 4"
   ]
  },
  {
   "cell_type": "code",
   "execution_count": 26,
   "id": "e4cf15a1",
   "metadata": {},
   "outputs": [
    {
     "data": {
      "text/plain": [
       "{'churn': True, 'churn_probability': 0.9988892771007961}"
      ]
     },
     "execution_count": 26,
     "metadata": {},
     "output_type": "execute_result"
    }
   ],
   "source": [
    "url = 'http://localhost:9696/predict'\n",
    "customer = {\"contract\": \"two_year\", \"tenure\": 1, \"monthlycharges\": 10}\n",
    "response = requests.post(url, json=customer).json()\n",
    "response"
   ]
  },
  {
   "cell_type": "markdown",
   "id": "7760cf25",
   "metadata": {},
   "source": [
    "### Question 5\n",
    "When you build your image, what's the image id for agrigorev/zoomcamp-model:3.8.12-slim?\n",
    "\n",
    "Look at the first step of your build log. It should look something like that:"
   ]
  },
  {
   "cell_type": "markdown",
   "id": "39f898be",
   "metadata": {},
   "source": [
    "### ANSWER: sha256:1ee036b365452f8a1da0dbc3bf5e7dd0557cfd33f0e56b28054d1dbb9c852023 "
   ]
  },
  {
   "cell_type": "markdown",
   "id": "c9cdeddf",
   "metadata": {},
   "source": [
    "### Question 6\n",
    "\n",
    "Let's run your docker container!\n",
    "\n",
    "After running it, score the same customer:\n",
    "\n",
    "```\n",
    "url = \"YOUR_URL\"\n",
    "customer = {\"contract\": \"two_year\", \"tenure\": 12, \"monthlycharges\": 10}\n",
    "requests.post(url, json=customer).json()\n",
    "What's the probability that this customer is churning?\n",
    "```"
   ]
  },
  {
   "cell_type": "markdown",
   "id": "6b7e311a",
   "metadata": {},
   "source": [
    "### ANSWER: {'churn': False, 'churn_probability': 0.32940789808151005}\n",
    "The customer has a probability of churning at 32.9%"
   ]
  },
  {
   "cell_type": "code",
   "execution_count": null,
   "id": "460edd42",
   "metadata": {},
   "outputs": [],
   "source": []
  }
 ],
 "metadata": {
  "kernelspec": {
   "display_name": "Python 3 (ipykernel)",
   "language": "python",
   "name": "python3"
  },
  "language_info": {
   "codemirror_mode": {
    "name": "ipython",
    "version": 3
   },
   "file_extension": ".py",
   "mimetype": "text/x-python",
   "name": "python",
   "nbconvert_exporter": "python",
   "pygments_lexer": "ipython3",
   "version": "3.9.7"
  }
 },
 "nbformat": 4,
 "nbformat_minor": 5
}
