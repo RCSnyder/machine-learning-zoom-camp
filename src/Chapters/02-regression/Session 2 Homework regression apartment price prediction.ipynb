{
 "cells": [
  {
   "cell_type": "code",
   "execution_count": 1,
   "id": "76e59345",
   "metadata": {},
   "outputs": [],
   "source": [
    "# command for downloading the dataset\n",
    "# curl.exe --output AB_NYC_2019.csv --url https://raw.githubusercontent.com/alexeygrigorev/datasets/master/AB_NYC_2019.csv"
   ]
  },
  {
   "cell_type": "code",
   "execution_count": 1,
   "id": "1aa0830f",
   "metadata": {},
   "outputs": [],
   "source": [
    "import numpy as np\n",
    "import pandas as pd\n",
    "from pathlib import Path\n",
    "import os\n",
    "import sklearn as sk\n",
    "\n",
    "from pandas.plotting import scatter_matrix\n",
    "from sklearn.model_selection import train_test_split\n",
    "from sklearn.linear_model import LinearRegression\n",
    "from sklearn.model_selection import train_test_split\n",
    "from sklearn.model_selection import KFold\n",
    "from sklearn.model_selection import cross_val_score\n",
    "from sklearn.metrics import mean_squared_error\n",
    "\n",
    "import seaborn as sns\n",
    "sns.set(color_codes=True)\n",
    "\n",
    "import matplotlib.pyplot as plt"
   ]
  },
  {
   "cell_type": "code",
   "execution_count": 97,
   "id": "b4a76c84",
   "metadata": {},
   "outputs": [],
   "source": [
    "data_path = Path(\"Data/AB_NYC_2019.csv\")\n",
    "full_data_path = Path.cwd().parents[1].joinpath(data_path)\n",
    "df = pd.read_csv(full_data_path)"
   ]
  },
  {
   "cell_type": "code",
   "execution_count": 3,
   "id": "6cac334d",
   "metadata": {},
   "outputs": [
    {
     "data": {
      "text/html": [
       "<div>\n",
       "<style scoped>\n",
       "    .dataframe tbody tr th:only-of-type {\n",
       "        vertical-align: middle;\n",
       "    }\n",
       "\n",
       "    .dataframe tbody tr th {\n",
       "        vertical-align: top;\n",
       "    }\n",
       "\n",
       "    .dataframe thead th {\n",
       "        text-align: right;\n",
       "    }\n",
       "</style>\n",
       "<table border=\"1\" class=\"dataframe\">\n",
       "  <thead>\n",
       "    <tr style=\"text-align: right;\">\n",
       "      <th></th>\n",
       "      <th>id</th>\n",
       "      <th>name</th>\n",
       "      <th>host_id</th>\n",
       "      <th>host_name</th>\n",
       "      <th>neighbourhood_group</th>\n",
       "      <th>neighbourhood</th>\n",
       "      <th>latitude</th>\n",
       "      <th>longitude</th>\n",
       "      <th>room_type</th>\n",
       "      <th>price</th>\n",
       "      <th>minimum_nights</th>\n",
       "      <th>number_of_reviews</th>\n",
       "      <th>last_review</th>\n",
       "      <th>reviews_per_month</th>\n",
       "      <th>calculated_host_listings_count</th>\n",
       "      <th>availability_365</th>\n",
       "    </tr>\n",
       "  </thead>\n",
       "  <tbody>\n",
       "    <tr>\n",
       "      <th>0</th>\n",
       "      <td>2539</td>\n",
       "      <td>Clean &amp; quiet apt home by the park</td>\n",
       "      <td>2787</td>\n",
       "      <td>John</td>\n",
       "      <td>Brooklyn</td>\n",
       "      <td>Kensington</td>\n",
       "      <td>40.64749</td>\n",
       "      <td>-73.97237</td>\n",
       "      <td>Private room</td>\n",
       "      <td>149</td>\n",
       "      <td>1</td>\n",
       "      <td>9</td>\n",
       "      <td>2018-10-19</td>\n",
       "      <td>0.21</td>\n",
       "      <td>6</td>\n",
       "      <td>365</td>\n",
       "    </tr>\n",
       "    <tr>\n",
       "      <th>1</th>\n",
       "      <td>2595</td>\n",
       "      <td>Skylit Midtown Castle</td>\n",
       "      <td>2845</td>\n",
       "      <td>Jennifer</td>\n",
       "      <td>Manhattan</td>\n",
       "      <td>Midtown</td>\n",
       "      <td>40.75362</td>\n",
       "      <td>-73.98377</td>\n",
       "      <td>Entire home/apt</td>\n",
       "      <td>225</td>\n",
       "      <td>1</td>\n",
       "      <td>45</td>\n",
       "      <td>2019-05-21</td>\n",
       "      <td>0.38</td>\n",
       "      <td>2</td>\n",
       "      <td>355</td>\n",
       "    </tr>\n",
       "    <tr>\n",
       "      <th>2</th>\n",
       "      <td>3647</td>\n",
       "      <td>THE VILLAGE OF HARLEM....NEW YORK !</td>\n",
       "      <td>4632</td>\n",
       "      <td>Elisabeth</td>\n",
       "      <td>Manhattan</td>\n",
       "      <td>Harlem</td>\n",
       "      <td>40.80902</td>\n",
       "      <td>-73.94190</td>\n",
       "      <td>Private room</td>\n",
       "      <td>150</td>\n",
       "      <td>3</td>\n",
       "      <td>0</td>\n",
       "      <td>NaN</td>\n",
       "      <td>NaN</td>\n",
       "      <td>1</td>\n",
       "      <td>365</td>\n",
       "    </tr>\n",
       "  </tbody>\n",
       "</table>\n",
       "</div>"
      ],
      "text/plain": [
       "     id                                 name  host_id  host_name  \\\n",
       "0  2539   Clean & quiet apt home by the park     2787       John   \n",
       "1  2595                Skylit Midtown Castle     2845   Jennifer   \n",
       "2  3647  THE VILLAGE OF HARLEM....NEW YORK !     4632  Elisabeth   \n",
       "\n",
       "  neighbourhood_group neighbourhood  latitude  longitude        room_type  \\\n",
       "0            Brooklyn    Kensington  40.64749  -73.97237     Private room   \n",
       "1           Manhattan       Midtown  40.75362  -73.98377  Entire home/apt   \n",
       "2           Manhattan        Harlem  40.80902  -73.94190     Private room   \n",
       "\n",
       "   price  minimum_nights  number_of_reviews last_review  reviews_per_month  \\\n",
       "0    149               1                  9  2018-10-19               0.21   \n",
       "1    225               1                 45  2019-05-21               0.38   \n",
       "2    150               3                  0         NaN                NaN   \n",
       "\n",
       "   calculated_host_listings_count  availability_365  \n",
       "0                               6               365  \n",
       "1                               2               355  \n",
       "2                               1               365  "
      ]
     },
     "execution_count": 3,
     "metadata": {},
     "output_type": "execute_result"
    }
   ],
   "source": [
    "df.head(3)"
   ]
  },
  {
   "cell_type": "code",
   "execution_count": 98,
   "id": "3dee649a",
   "metadata": {},
   "outputs": [],
   "source": [
    "# only use target columns\n",
    "cols = ['latitude', 'longitude', 'minimum_nights', 'number_of_reviews', 'reviews_per_month',\n",
    "        'calculated_host_listings_count','availability_365', 'price']\n",
    "df = df[cols]"
   ]
  },
  {
   "cell_type": "code",
   "execution_count": 99,
   "id": "76f3ed3a",
   "metadata": {},
   "outputs": [],
   "source": [
    "base = ['latitude', 'longitude', 'minimum_nights', 'number_of_reviews', 'reviews_per_month',\n",
    "        'calculated_host_listings_count','availability_365']"
   ]
  },
  {
   "cell_type": "code",
   "execution_count": 5,
   "id": "87df2573",
   "metadata": {},
   "outputs": [
    {
     "data": {
      "text/plain": [
       "<AxesSubplot:xlabel='price', ylabel='Count'>"
      ]
     },
     "execution_count": 5,
     "metadata": {},
     "output_type": "execute_result"
    },
    {
     "data": {
      "image/png": "[encoded data removed]",
      "text/plain": [
       "<Figure size 432x288 with 1 Axes>"
      ]
     },
     "metadata": {},
     "output_type": "display_data"
    }
   ],
   "source": [
    "sns.histplot(df.price, bins=100)"
   ]
  },
  {
   "cell_type": "code",
   "execution_count": 6,
   "id": "1afb8782",
   "metadata": {},
   "outputs": [
    {
     "data": {
      "image/png": "[encoded data removed]",
      "text/plain": [
       "<Figure size 720x576 with 9 Axes>"
      ]
     },
     "metadata": {},
     "output_type": "display_data"
    }
   ],
   "source": [
    "df.hist(edgecolor= 'black',figsize=(10,8))\n",
    "plt.show()"
   ]
  },
  {
   "cell_type": "code",
   "execution_count": 7,
   "id": "91aaef94",
   "metadata": {},
   "outputs": [
    {
     "data": {
      "image/png": "[encoded data removed]",
      "text/plain": [
       "<Figure size 1440x1296 with 15 Axes>"
      ]
     },
     "metadata": {},
     "output_type": "display_data"
    }
   ],
   "source": [
    "df.plot(kind=\"box\", subplots=True, layout=(5,3), sharex=False, figsize=(20,18))\n",
    "plt.show()"
   ]
  },
  {
   "cell_type": "code",
   "execution_count": 8,
   "id": "41f61076",
   "metadata": {},
   "outputs": [
    {
     "data": {
      "image/png": "[encoded data removed]",
      "text/plain": [
       "<Figure size 1152x720 with 2 Axes>"
      ]
     },
     "metadata": {},
     "output_type": "display_data"
    }
   ],
   "source": [
    "plt.figure(figsize =(16,10))\n",
    "sns.heatmap(df.corr(), annot=True)\n",
    "plt.show()"
   ]
  },
  {
   "cell_type": "markdown",
   "id": "ed228deb",
   "metadata": {},
   "source": [
    "### Question 1\n",
    "Find a feature with missing values. How many missing values does it have?"
   ]
  },
  {
   "cell_type": "code",
   "execution_count": 9,
   "id": "fd85b559",
   "metadata": {},
   "outputs": [
    {
     "data": {
      "text/plain": [
       "latitude                              0\n",
       "longitude                             0\n",
       "minimum_nights                        0\n",
       "number_of_reviews                     0\n",
       "reviews_per_month                 10052\n",
       "calculated_host_listings_count        0\n",
       "availability_365                      0\n",
       "price                                 0\n",
       "dtype: int64"
      ]
     },
     "execution_count": 9,
     "metadata": {},
     "output_type": "execute_result"
    }
   ],
   "source": [
    "df.isna().sum()"
   ]
  },
  {
   "cell_type": "code",
   "execution_count": 10,
   "id": "951f6791",
   "metadata": {},
   "outputs": [
    {
     "name": "stdout",
     "output_type": "stream",
     "text": [
      "(48895, 8)\n"
     ]
    }
   ],
   "source": [
    "print(df.shape)"
   ]
  },
  {
   "cell_type": "code",
   "execution_count": 11,
   "id": "d7ea8666",
   "metadata": {},
   "outputs": [
    {
     "name": "stdout",
     "output_type": "stream",
     "text": [
      "latitude                          float64\n",
      "longitude                         float64\n",
      "minimum_nights                      int64\n",
      "number_of_reviews                   int64\n",
      "reviews_per_month                 float64\n",
      "calculated_host_listings_count      int64\n",
      "availability_365                    int64\n",
      "price                               int64\n",
      "dtype: object\n"
     ]
    }
   ],
   "source": [
    "print(df.dtypes)"
   ]
  },
  {
   "cell_type": "code",
   "execution_count": 12,
   "id": "8a652f47",
   "metadata": {},
   "outputs": [
    {
     "name": "stdout",
     "output_type": "stream",
     "text": [
      "           latitude     longitude  minimum_nights  number_of_reviews  \\\n",
      "count  48895.000000  48895.000000    48895.000000       48895.000000   \n",
      "mean      40.728949    -73.952170        7.029962          23.274466   \n",
      "std        0.054530      0.046157       20.510550          44.550582   \n",
      "min       40.499790    -74.244420        1.000000           0.000000   \n",
      "25%       40.690100    -73.983070        1.000000           1.000000   \n",
      "50%       40.723070    -73.955680        3.000000           5.000000   \n",
      "75%       40.763115    -73.936275        5.000000          24.000000   \n",
      "max       40.913060    -73.712990     1250.000000         629.000000   \n",
      "\n",
      "       reviews_per_month  calculated_host_listings_count  availability_365  \\\n",
      "count       38843.000000                    48895.000000      48895.000000   \n",
      "mean            1.373221                        7.143982        112.781327   \n",
      "std             1.680442                       32.952519        131.622289   \n",
      "min             0.010000                        1.000000          0.000000   \n",
      "25%             0.190000                        1.000000          0.000000   \n",
      "50%             0.720000                        1.000000         45.000000   \n",
      "75%             2.020000                        2.000000        227.000000   \n",
      "max            58.500000                      327.000000        365.000000   \n",
      "\n",
      "              price  \n",
      "count  48895.000000  \n",
      "mean     152.720687  \n",
      "std      240.154170  \n",
      "min        0.000000  \n",
      "25%       69.000000  \n",
      "50%      106.000000  \n",
      "75%      175.000000  \n",
      "max    10000.000000  \n"
     ]
    }
   ],
   "source": [
    "print(df.describe())"
   ]
  },
  {
   "cell_type": "markdown",
   "id": "968fc7c5",
   "metadata": {},
   "source": [
    "### Question 2\n",
    "What's the median (50% percentile) for variable 'minimum_nights'?"
   ]
  },
  {
   "cell_type": "code",
   "execution_count": 13,
   "id": "73727023",
   "metadata": {},
   "outputs": [
    {
     "data": {
      "text/plain": [
       "3.0"
      ]
     },
     "execution_count": 13,
     "metadata": {},
     "output_type": "execute_result"
    }
   ],
   "source": [
    "df.minimum_nights.median()"
   ]
  },
  {
   "cell_type": "markdown",
   "id": "90bb65bb",
   "metadata": {},
   "source": [
    "- Split the data\n",
    "- Shuffle the initial dataset, use seed 42.\n",
    "- Split your data in train/val/test sets, with 60%/20%/20% distribution.\n",
    "- Make sure that the target value ('price') is not in your dataframe.\n",
    "- Apply the log transformation to the price variable using the np.log1p() function.### "
   ]
  },
  {
   "cell_type": "code",
   "execution_count": 14,
   "id": "7f90e01e",
   "metadata": {},
   "outputs": [
    {
     "name": "stdout",
     "output_type": "stream",
     "text": [
      "Index(['latitude', 'longitude', 'minimum_nights', 'number_of_reviews',\n",
      "       'reviews_per_month', 'calculated_host_listings_count',\n",
      "       'availability_365', 'price'],\n",
      "      dtype='object')\n",
      "8\n"
     ]
    }
   ],
   "source": [
    "print(df.columns)\n",
    "print(len(df.columns))"
   ]
  },
  {
   "cell_type": "code",
   "execution_count": 15,
   "id": "9e1a6729",
   "metadata": {},
   "outputs": [
    {
     "data": {
      "text/plain": [
       "48895"
      ]
     },
     "execution_count": 15,
     "metadata": {},
     "output_type": "execute_result"
    }
   ],
   "source": [
    "len(df)"
   ]
  },
  {
   "cell_type": "code",
   "execution_count": 16,
   "id": "6f89a11c",
   "metadata": {},
   "outputs": [],
   "source": [
    "seed = 42\n",
    "test_size = int(0.20 * len(df))\n",
    "validiation_size = int(0.20 * len(df))\n",
    "train_size = int(.6 * len(df))"
   ]
  },
  {
   "cell_type": "code",
   "execution_count": 17,
   "id": "3c04b410",
   "metadata": {},
   "outputs": [
    {
     "name": "stdout",
     "output_type": "stream",
     "text": [
      "9779 9779 29337\n"
     ]
    }
   ],
   "source": [
    "print(test_size, validiation_size, train_size)"
   ]
  },
  {
   "cell_type": "code",
   "execution_count": 18,
   "id": "c95b0987",
   "metadata": {},
   "outputs": [
    {
     "data": {
      "text/html": [
       "<div>\n",
       "<style scoped>\n",
       "    .dataframe tbody tr th:only-of-type {\n",
       "        vertical-align: middle;\n",
       "    }\n",
       "\n",
       "    .dataframe tbody tr th {\n",
       "        vertical-align: top;\n",
       "    }\n",
       "\n",
       "    .dataframe thead th {\n",
       "        text-align: right;\n",
       "    }\n",
       "</style>\n",
       "<table border=\"1\" class=\"dataframe\">\n",
       "  <thead>\n",
       "    <tr style=\"text-align: right;\">\n",
       "      <th></th>\n",
       "      <th>latitude</th>\n",
       "      <th>longitude</th>\n",
       "      <th>minimum_nights</th>\n",
       "      <th>number_of_reviews</th>\n",
       "      <th>reviews_per_month</th>\n",
       "      <th>calculated_host_listings_count</th>\n",
       "      <th>availability_365</th>\n",
       "      <th>price</th>\n",
       "    </tr>\n",
       "  </thead>\n",
       "  <tbody>\n",
       "    <tr>\n",
       "      <th>0</th>\n",
       "      <td>40.64354</td>\n",
       "      <td>-73.97777</td>\n",
       "      <td>3</td>\n",
       "      <td>62</td>\n",
       "      <td>0.71</td>\n",
       "      <td>1</td>\n",
       "      <td>189</td>\n",
       "      <td>89</td>\n",
       "    </tr>\n",
       "    <tr>\n",
       "      <th>1</th>\n",
       "      <td>40.70666</td>\n",
       "      <td>-73.90779</td>\n",
       "      <td>21</td>\n",
       "      <td>0</td>\n",
       "      <td>NaN</td>\n",
       "      <td>1</td>\n",
       "      <td>73</td>\n",
       "      <td>30</td>\n",
       "    </tr>\n",
       "    <tr>\n",
       "      <th>2</th>\n",
       "      <td>40.76116</td>\n",
       "      <td>-73.99016</td>\n",
       "      <td>2</td>\n",
       "      <td>17</td>\n",
       "      <td>0.43</td>\n",
       "      <td>1</td>\n",
       "      <td>0</td>\n",
       "      <td>120</td>\n",
       "    </tr>\n",
       "  </tbody>\n",
       "</table>\n",
       "</div>"
      ],
      "text/plain": [
       "   latitude  longitude  minimum_nights  number_of_reviews  reviews_per_month  \\\n",
       "0  40.64354  -73.97777               3                 62               0.71   \n",
       "1  40.70666  -73.90779              21                  0                NaN   \n",
       "2  40.76116  -73.99016               2                 17               0.43   \n",
       "\n",
       "   calculated_host_listings_count  availability_365  price  \n",
       "0                               1               189     89  \n",
       "1                               1                73     30  \n",
       "2                               1                 0    120  "
      ]
     },
     "execution_count": 18,
     "metadata": {},
     "output_type": "execute_result"
    }
   ],
   "source": [
    "# shuffle data and reset index\n",
    "df_shuffle = df.sample(frac = 1, random_state = seed)\n",
    "df_shuffle.reset_index(drop=True, inplace=True)\n",
    "df_shuffle.head(3)"
   ]
  },
  {
   "cell_type": "code",
   "execution_count": 19,
   "id": "867daf95",
   "metadata": {},
   "outputs": [],
   "source": [
    "# transform price to log\n",
    "df_shuffle['price'] = np.log1p(df_shuffle['price'])"
   ]
  },
  {
   "cell_type": "code",
   "execution_count": 20,
   "id": "e9ad727e",
   "metadata": {},
   "outputs": [],
   "source": [
    "# split dataset\n",
    "df_train_x, df_val_x, df_test_x = np.split(df_shuffle, [train_size, train_size+validiation_size])"
   ]
  },
  {
   "cell_type": "code",
   "execution_count": 21,
   "id": "ee25f2c4",
   "metadata": {},
   "outputs": [
    {
     "name": "stdout",
     "output_type": "stream",
     "text": [
      "train length:\t\t 29337\n",
      "validation length:\t 9779\n",
      "test length:\t\t 9779\n",
      "\n",
      "sum length:\t\t 48895\n",
      "original length:\t 48895\n"
     ]
    }
   ],
   "source": [
    "# proof of lengths matching\n",
    "print(\"train length:\\t\\t\", len(df_train_x))\n",
    "print(\"validation length:\\t\", len(df_val_x))\n",
    "print(\"test length:\\t\\t\", len(df_test_x))\n",
    "print()\n",
    "print(\"sum length:\\t\\t\", len(df_train_x)+len(df_val_x)+len(df_test_x))\n",
    "print(\"original length:\\t\", len(df_shuffle))"
   ]
  },
  {
   "cell_type": "code",
   "execution_count": 22,
   "id": "8498da4b",
   "metadata": {},
   "outputs": [],
   "source": [
    "# build y target columns\n",
    "df_train_y = df_train_x['price']\n",
    "df_train_x.drop(['price'], axis=1, inplace=True)\n",
    "\n",
    "df_val_y = df_val_x['price']\n",
    "df_val_x.drop(['price'], axis=1, inplace=True)\n",
    "\n",
    "df_test_y = df_test_x['price']\n",
    "df_test_x.drop(['price'], axis=1, inplace=True)"
   ]
  },
  {
   "cell_type": "code",
   "execution_count": null,
   "id": "8adbfc50",
   "metadata": {},
   "outputs": [],
   "source": []
  },
  {
   "cell_type": "code",
   "execution_count": 85,
   "id": "84afecb3",
   "metadata": {},
   "outputs": [],
   "source": [
    "# array = df_shuffle.values"
   ]
  },
  {
   "cell_type": "code",
   "execution_count": 84,
   "id": "41122b0a",
   "metadata": {},
   "outputs": [],
   "source": [
    "# log_price = np.log1p(array[:,7])"
   ]
  },
  {
   "cell_type": "code",
   "execution_count": 78,
   "id": "306082f9",
   "metadata": {},
   "outputs": [],
   "source": [
    "# X = array[:, 0:7]\n",
    "# Y = log_price"
   ]
  },
  {
   "cell_type": "code",
   "execution_count": 83,
   "id": "e4a8154d",
   "metadata": {},
   "outputs": [],
   "source": [
    "# X_train = X[:train_size]\n",
    "# X_validation = X[train_size:train_size + valdiation_size]\n",
    "# X_test = X[train_size + valdiation_size:]\n",
    "\n",
    "# Y_train = Y[:train_size]\n",
    "# Y_validation = Y[train_size:train_size + valdiation_size]\n",
    "# Y_test = Y[train_size + valdiation_size:]"
   ]
  },
  {
   "cell_type": "code",
   "execution_count": null,
   "id": "184cb7dd",
   "metadata": {},
   "outputs": [],
   "source": [
    "# X_train, X_test, Y_train, Y_test = train_test_split(X, Y, test_size = test_size, random_state=seed)"
   ]
  },
  {
   "cell_type": "markdown",
   "id": "6abd95f9",
   "metadata": {},
   "source": [
    "### Question 3\n",
    "- We need to deal with missing values for the column from Q1.\n",
    "- We have two options: fill it with 0 or with the mean of this variable.\n",
    "- Try both options. For each, train a linear regression model without regularization using the code from the lesssons.\n",
    "- For computing the mean, use the training only!\n",
    "- Compare the RMSE of each option.\n",
    "- Round the RMSE scores to 2 decimal digits using round(score, 2)\n",
    "- Which option gives better RMSE?"
   ]
  },
  {
   "cell_type": "code",
   "execution_count": 23,
   "id": "478aff61",
   "metadata": {},
   "outputs": [],
   "source": [
    "# calculate mean of reviews_per_month\n",
    "rpm_mean = df_train_x.reviews_per_month.mean()\n",
    "\n",
    "# make copies of df_train_x\n",
    "df_train_x_na_zero = df_train_x.copy()\n",
    "df_train_x_na_mean = df_train_x.copy()"
   ]
  },
  {
   "cell_type": "code",
   "execution_count": 24,
   "id": "fb77116d",
   "metadata": {},
   "outputs": [],
   "source": [
    "# fill reviews_per_month column with 0\n",
    "df_train_x_na_zero.reviews_per_month.fillna(0, inplace=True)"
   ]
  },
  {
   "cell_type": "code",
   "execution_count": 25,
   "id": "9f93017b",
   "metadata": {},
   "outputs": [],
   "source": [
    "# fill reviews_per_month column with mean\n",
    "df_train_x_na_mean.reviews_per_month.fillna(rpm_mean, inplace=True)"
   ]
  },
  {
   "cell_type": "code",
   "execution_count": 26,
   "id": "55af51d0",
   "metadata": {},
   "outputs": [
    {
     "name": "stdout",
     "output_type": "stream",
     "text": [
      "Intercept: -419.9126589235938\n",
      "Coefficients: [ 1.30676225e+00 -5.02167855e+00 -5.59803110e-04 -4.07634897e-04\n",
      " -8.25470064e-03  1.33371320e-03  6.50203891e-04]\n"
     ]
    }
   ],
   "source": [
    "# make linear regression model\n",
    "model = LinearRegression()\n",
    "model.fit(df_train_x_na_zero, df_train_y)\n",
    "\n",
    "print (\"Intercept:\", model.intercept_)\n",
    "print (\"Coefficients:\", model.coef_)"
   ]
  },
  {
   "cell_type": "code",
   "execution_count": 27,
   "id": "ae6bd486",
   "metadata": {},
   "outputs": [
    {
     "name": "stdout",
     "output_type": "stream",
     "text": [
      "RMSE of NaN replaced with 0: 0.6429\n",
      "R^2: 0.1395046188047715\n"
     ]
    }
   ],
   "source": [
    "# RMSE for replaced with 0s on training data\n",
    "y_true = df_train_y\n",
    "y_pred = model.predict(df_train_x_na_zero)\n",
    "print(\"RMSE of NaN replaced with 0:\", round(mean_squared_error(y_true, y_pred, squared=False), 4))\n",
    "print(\"R^2:\", model.score(df_train_x_na_zero, df_train_y))"
   ]
  },
  {
   "cell_type": "code",
   "execution_count": 28,
   "id": "1118836f",
   "metadata": {},
   "outputs": [
    {
     "name": "stdout",
     "output_type": "stream",
     "text": [
      "RMSE of NaN replaced with mean: 0.6432\n",
      "R^2: 0.13877806489449962\n"
     ]
    }
   ],
   "source": [
    "# RMSE for replaced with mean on training data\n",
    "y_true = df_train_y\n",
    "y_pred = model.predict(df_train_x_na_mean)\n",
    "print(\"RMSE of NaN replaced with mean:\", round(mean_squared_error(y_true, y_pred, squared=False), 4))\n",
    "print(\"R^2:\", model.score(df_train_x_na_mean, df_train_y))"
   ]
  },
  {
   "cell_type": "markdown",
   "id": "32af3f35",
   "metadata": {},
   "source": [
    "### They are the same RMSE at the 2nd decimal place."
   ]
  },
  {
   "cell_type": "code",
   "execution_count": null,
   "id": "68a079b7",
   "metadata": {},
   "outputs": [],
   "source": []
  },
  {
   "cell_type": "markdown",
   "id": "669c5e4a",
   "metadata": {},
   "source": [
    "### Alexey Grigorev Solution\n",
    "- https://github.com/alexeygrigorev/mlbookcamp-code/blob/master/chapter-02-car-price/02-carprice.ipynb"
   ]
  },
  {
   "cell_type": "code",
   "execution_count": 106,
   "id": "de855322",
   "metadata": {},
   "outputs": [],
   "source": [
    "np.random.seed(42)\n",
    "\n",
    "n = len(df)\n",
    "\n",
    "n_val = int(0.2 * n)\n",
    "n_test = int(0.2 * n)\n",
    "n_train = n - (n_val + n_test)\n",
    "\n",
    "idx = np.arange(n)\n",
    "np.random.shuffle(idx)\n",
    "\n",
    "df_shuffled = df.iloc[idx]\n",
    "\n",
    "df_train = df_shuffled.iloc[:n_train].copy()\n",
    "df_val = df_shuffled.iloc[n_train:n_train+n_val].copy()\n",
    "df_test = df_shuffled.iloc[n_train+n_val:].copy()"
   ]
  },
  {
   "cell_type": "code",
   "execution_count": 107,
   "id": "290526d5",
   "metadata": {},
   "outputs": [],
   "source": [
    "def train_linear_regression(X, y):\n",
    "    ones = np.ones(X.shape[0])\n",
    "    X = np.column_stack([ones, X])\n",
    "\n",
    "    XTX = X.T.dot(X)\n",
    "    XTX_inv = np.linalg.inv(XTX)\n",
    "    w = XTX_inv.dot(X.T).dot(y)\n",
    "    \n",
    "    return w[0], w[1:]"
   ]
  },
  {
   "cell_type": "code",
   "execution_count": 160,
   "id": "5e3112ed",
   "metadata": {},
   "outputs": [],
   "source": [
    "def prepare_X(df):\n",
    "    df_num_zero = df[base]\n",
    "    df_num_mean = df[base]\n",
    "    \n",
    "    # replace with 0\n",
    "    df_num_zero.reviews_per_month = df_num_zero.reviews_per_month.fillna(0)\n",
    "    \n",
    "    # replace with mean\n",
    "    replace_col_mean = df_num_mean.reviews_per_month.mean()\n",
    "    df_num_mean.reviews_per_month = df_num_mean.reviews_per_month.fillna(replace_col_mean)\n",
    "    \n",
    "    X_mean = df_num_mean.values\n",
    "    X_zero = df_num_zero.values\n",
    "    return X_mean, X_zero"
   ]
  },
  {
   "cell_type": "code",
   "execution_count": 109,
   "id": "5dfe9d57",
   "metadata": {},
   "outputs": [],
   "source": [
    "y_train_orig = df_train.price.values\n",
    "y_val_orig = df_val.price.values\n",
    "y_test_orig = df_test.price.values\n",
    "\n",
    "y_train = np.log1p(df_train.price.values)\n",
    "y_val = np.log1p(df_val.price.values)\n",
    "y_test = np.log1p(df_test.price.values)\n",
    "\n",
    "del df_train['price']\n",
    "del df_val['price']\n",
    "del df_test['price']"
   ]
  },
  {
   "cell_type": "code",
   "execution_count": 111,
   "id": "200de813",
   "metadata": {},
   "outputs": [],
   "source": [
    "X_train_zero, X_train_mean = prepare_X(df_train)\n",
    "w_0, w = train_linear_regression(X_train, y_train)"
   ]
  },
  {
   "cell_type": "code",
   "execution_count": 112,
   "id": "5319f59e",
   "metadata": {},
   "outputs": [],
   "source": []
  },
  {
   "cell_type": "code",
   "execution_count": 113,
   "id": "0f7b7c19",
   "metadata": {},
   "outputs": [],
   "source": [
    "def plot_results(X_train):\n",
    "    y_pred = w_0 + X_train.dot(w)\n",
    "    \n",
    "    plt.figure(figsize=(6, 4))\n",
    "\n",
    "    sns.histplot(y_train, label='target', color='#222222', alpha=0.6, bins=40)\n",
    "    sns.histplot(y_pred, label='prediction', color='#aaaaaa', alpha=0.8, bins=40)\n",
    "\n",
    "    plt.legend()\n",
    "\n",
    "    plt.ylabel('Frequency')\n",
    "    plt.xlabel('Log(Price + 1)')\n",
    "    plt.title('Predictions vs actual distribution')\n",
    "\n",
    "    plt.show()\n",
    "    \n",
    "    def rmse(y, y_pred):\n",
    "        error = y_pred - y\n",
    "        mse = (error ** 2).mean()\n",
    "        return np.sqrt(mse)\n",
    "    \n",
    "    rmse_val = rmse(y_train, y_pred)\n",
    "    print(\"RMSE: \", rmse_val)"
   ]
  },
  {
   "cell_type": "code",
   "execution_count": 119,
   "id": "a1db01b1",
   "metadata": {},
   "outputs": [
    {
     "data": {
      "image/png": "[encoded data removed]",
      "text/plain": [
       "<Figure size 432x288 with 1 Axes>"
      ]
     },
     "metadata": {},
     "output_type": "display_data"
    },
    {
     "name": "stdout",
     "output_type": "stream",
     "text": [
      "RMSE:  0.6431573996398158\n"
     ]
    }
   ],
   "source": [
    "# train error with replace with 0\n",
    "plot_results(X_train_zero)"
   ]
  },
  {
   "cell_type": "code",
   "execution_count": 118,
   "id": "03d6bde1",
   "metadata": {},
   "outputs": [
    {
     "data": {
      "image/png": "[encoded data removed]",
      "text/plain": [
       "<Figure size 432x288 with 1 Axes>"
      ]
     },
     "metadata": {},
     "output_type": "display_data"
    },
    {
     "name": "stdout",
     "output_type": "stream",
     "text": [
      "RMSE:  0.642886048486043\n"
     ]
    }
   ],
   "source": [
    "# train error with train with mean\n",
    "plot_results(X_train_mean)"
   ]
  },
  {
   "cell_type": "code",
   "execution_count": 120,
   "id": "c08546b6",
   "metadata": {},
   "outputs": [],
   "source": [
    "X_val_zero, X_val_mean = prepare_X(df_val)\n",
    "y_pred_zero = w_0 + X_val_zero.dot(w)\n",
    "y_pred_mean = w_0 + X_val_mean.dot(w)"
   ]
  },
  {
   "cell_type": "code",
   "execution_count": 121,
   "id": "46d7477b",
   "metadata": {},
   "outputs": [
    {
     "data": {
      "text/plain": [
       "0.6432865744527931"
      ]
     },
     "execution_count": 121,
     "metadata": {},
     "output_type": "execute_result"
    }
   ],
   "source": [
    "rmse(y_val, y_pred_zero)"
   ]
  },
  {
   "cell_type": "code",
   "execution_count": 122,
   "id": "800a1651",
   "metadata": {},
   "outputs": [
    {
     "data": {
      "text/plain": [
       "0.6430337788351764"
      ]
     },
     "execution_count": 122,
     "metadata": {},
     "output_type": "execute_result"
    }
   ],
   "source": [
    "rmse(y_val, y_pred_mean)"
   ]
  },
  {
   "cell_type": "code",
   "execution_count": 90,
   "id": "75ebe5e0",
   "metadata": {},
   "outputs": [],
   "source": []
  },
  {
   "cell_type": "markdown",
   "id": "4d95a267",
   "metadata": {},
   "source": [
    "### Question 4\n",
    "- Now let's train a regularized linear regression.\n",
    "- For this question, fill the NAs with 0.\n",
    "- Try different values of r from this list: [0, 0.000001, 0.0001, 0.001, 0.01, 0.1, 1, 5, 10].\n",
    "- Round the RMSE scores to 2 decimal digits.\n",
    "- Which r gives the best RMSE?\n",
    "- If there are multiple options, select the smallest r."
   ]
  },
  {
   "cell_type": "code",
   "execution_count": 123,
   "id": "f5b30e00",
   "metadata": {},
   "outputs": [],
   "source": [
    "def train_linear_regression_reg(X, y, r=0.0):\n",
    "    ones = np.ones(X.shape[0])\n",
    "    X = np.column_stack([ones, X])\n",
    "\n",
    "    XTX = X.T.dot(X)\n",
    "    reg = r * np.eye(XTX.shape[0])\n",
    "    XTX = XTX + reg\n",
    "\n",
    "    XTX_inv = np.linalg.inv(XTX)\n",
    "    w = XTX_inv.dot(X.T).dot(y)\n",
    "    \n",
    "    return w[0], w[1:]"
   ]
  },
  {
   "cell_type": "code",
   "execution_count": 126,
   "id": "6141b9f4",
   "metadata": {},
   "outputs": [],
   "source": [
    "X_train, _ = prepare_X(df_train)"
   ]
  },
  {
   "cell_type": "code",
   "execution_count": 138,
   "id": "c619ca78",
   "metadata": {},
   "outputs": [
    {
     "name": "stdout",
     "output_type": "stream",
     "text": [
      "    0, -423.54, 1.31, -5.07\n",
      "0.001, -378.56, 1.10, -4.58\n",
      " 0.01, -193.57, 0.21, -2.57\n",
      "  0.1, -32.88, -0.56, -0.82\n",
      "    1, -3.53, -0.69, -0.49\n",
      "   10, -0.35, -0.64, -0.42\n"
     ]
    }
   ],
   "source": [
    "for r in [0, 0.001, 0.01, 0.1, 1, 10]:\n",
    "    w_0, w = train_linear_regression_reg(X_train, y_train, r=r)\n",
    "    print('%5s, %.2f, %.2f, %.2f' % (r, w_0, w[0], w[7]))"
   ]
  },
  {
   "cell_type": "code",
   "execution_count": 148,
   "id": "8c13acd6",
   "metadata": {},
   "outputs": [
    {
     "name": "stdout",
     "output_type": "stream",
     "text": [
      " 1e-06 0.64\n",
      "0.0001 0.64\n",
      " 0.001 0.64\n",
      "  0.01 0.66\n",
      "   0.1 0.68\n",
      "     1 0.68\n",
      "     5 0.68\n",
      "    10 0.68\n"
     ]
    }
   ],
   "source": [
    "X_train, _ = prepare_X(df_train)\n",
    "X_val, _ = prepare_X(df_val)\n",
    "\n",
    "for r in [0.000001, 0.0001, 0.001, 0.01, 0.1, 1, 5, 10]:\n",
    "    w_0, w = train_linear_regression_reg(X_train, y_train, r=r)\n",
    "    y_pred = w_0 + X_val.dot(w)\n",
    "    print('%6s' %r, round(rmse(y_val, y_pred), 2))"
   ]
  },
  {
   "cell_type": "code",
   "execution_count": 156,
   "id": "1af8cb8a",
   "metadata": {},
   "outputs": [
    {
     "name": "stdout",
     "output_type": "stream",
     "text": [
      "validation: 0.64\n",
      "test: 0.65\n"
     ]
    }
   ],
   "source": [
    "X_train, _ = prepare_X(df_train)\n",
    "w_0, w = train_linear_regression_reg(X_train, y_train, r=0.0000001)\n",
    "\n",
    "X_val, _ = prepare_X(df_val)\n",
    "y_pred = w_0 + X_val.dot(w)\n",
    "print('validation:', round(rmse(y_val, y_pred), 2))\n",
    "\n",
    "X_test, _ = prepare_X(df_test)\n",
    "y_pred = w_0 + X_test.dot(w)\n",
    "print('test:', round(rmse(y_test, y_pred), 2))"
   ]
  },
  {
   "cell_type": "code",
   "execution_count": null,
   "id": "bc103363",
   "metadata": {},
   "outputs": [],
   "source": []
  },
  {
   "cell_type": "markdown",
   "id": "e029ff40",
   "metadata": {},
   "source": [
    "### Question 5\n",
    "- We used seed 42 for splitting the data. Let's find out how selecting the seed influences our score.\n",
    "- Try different seed values: [0, 1, 2, 3, 4, 5, 6, 7, 8, 9].\n",
    "- For each seed, do the train/validation/test split with 60%/20%/20% distribution.\n",
    "- Fill the missing values with 0 and train a model without regularization.\n",
    "- For each seed, collect the RMSE scores.\n",
    "- What's the standard deviation of all the scores? To compute the standard deviation, use np.std.\n",
    "- Round the result to 3 decimal digits (round(std, 3))\n",
    "\n",
    "\n",
    "Note: Standard deviation shows how different the values are. If it's low, then all values are approximately the same. If it's high, the values are different. If standard deviation of scores is low, then our model is stable."
   ]
  },
  {
   "cell_type": "code",
   "execution_count": 164,
   "id": "168c7a63",
   "metadata": {},
   "outputs": [],
   "source": [
    "def test_seeds(df):\n",
    "    rmse_scores = []\n",
    "    \n",
    "    scores = 0\n",
    "    \n",
    "    def prepare_X(df):\n",
    "        df_num_zero = df[base]\n",
    "        df_num_mean = df[base]\n",
    "\n",
    "        # replace with 0\n",
    "        df_num_zero.reviews_per_month = df_num_zero.reviews_per_month.fillna(0)\n",
    "\n",
    "        # replace with mean\n",
    "        replace_col_mean = df_num_mean.reviews_per_month.mean()\n",
    "        df_num_mean.reviews_per_month = df_num_mean.reviews_per_month.fillna(replace_col_mean)\n",
    "\n",
    "        X_mean = df_num_mean.values\n",
    "        X_zero = df_num_zero.values\n",
    "        return X_mean, X_zero\n",
    "    \n",
    "    def train_linear_regression(X, y):\n",
    "        ones = np.ones(X.shape[0])\n",
    "        X = np.column_stack([ones, X])\n",
    "\n",
    "        XTX = X.T.dot(X)\n",
    "        XTX_inv = np.linalg.inv(XTX)\n",
    "        w = XTX_inv.dot(X.T).dot(y)\n",
    "\n",
    "        return w[0], w[1:]\n",
    "\n",
    "\n",
    "    # get and split data\n",
    "    for increment_seed in range(9):\n",
    "        np.random.seed(increment_seed)\n",
    "\n",
    "        n = len(df)\n",
    "        n_val = int(0.2 * n)\n",
    "        n_test = int(0.2 * n)\n",
    "        n_train = n - (n_val + n_test)\n",
    "        idx = np.arange(n)\n",
    "        \n",
    "        np.random.shuffle(idx)\n",
    "        df_shuffled = df.iloc[idx]\n",
    "        \n",
    "        df_train = df_shuffled.iloc[:n_train].copy()\n",
    "        df_val = df_shuffled.iloc[n_train:n_train+n_val].copy()\n",
    "        df_test = df_shuffled.iloc[n_train+n_val:].copy()\n",
    "        \n",
    "        y_train_orig = df_train.price.values\n",
    "        y_val_orig = df_val.price.values\n",
    "        y_test_orig = df_test.price.values\n",
    "\n",
    "        y_train = np.log1p(df_train.price.values)\n",
    "        y_val = np.log1p(df_val.price.values)\n",
    "        y_test = np.log1p(df_test.price.values)\n",
    "\n",
    "        del df_train['price']\n",
    "        del df_val['price']\n",
    "        del df_test['price']\n",
    "\n",
    "    \n",
    "        # train\n",
    "        _, X_train = prepare_X(df_train)\n",
    "        w_0, w = train_linear_regression(X_train, y_train)\n",
    "\n",
    "        # collect score\n",
    "        _, X_val = prepare_X(df_val)\n",
    "        y_pred = w_0 + X_val.dot(w)\n",
    "        #print('validation:', rmse(y_val, y_pred))\n",
    "\n",
    "        _, X_test = prepare_X(df_test)\n",
    "        y_pred = w_0 + X_test.dot(w)\n",
    "        #print('test:', rmse(y_test, y_pred))\n",
    "        \n",
    "        rmse_scores.append(rmse(y_test, y_pred))\n",
    "    \n",
    "    \n",
    "    # np.std scores\n",
    "    scores = np.std(rmse_scores)\n",
    "    \n",
    "    return scores"
   ]
  },
  {
   "cell_type": "code",
   "execution_count": 165,
   "id": "fc8bdb10",
   "metadata": {},
   "outputs": [
    {
     "data": {
      "text/plain": [
       "0.00785000304393497"
      ]
     },
     "execution_count": 165,
     "metadata": {},
     "output_type": "execute_result"
    }
   ],
   "source": [
    "test_seeds(df)"
   ]
  },
  {
   "cell_type": "markdown",
   "id": "fb7d0008",
   "metadata": {},
   "source": [
    "### Question 6\n",
    "- Split the dataset like previously, use seed 9.\n",
    "- Combine train and validation datasets.\n",
    "- Train a model with r=0.001.\n",
    "- What's the RMSE on test dataset?"
   ]
  },
  {
   "cell_type": "code",
   "execution_count": 171,
   "id": "a259daac",
   "metadata": {},
   "outputs": [],
   "source": [
    "def train_val_combined(df):\n",
    "    \n",
    "    \n",
    "    def train_linear_regression_reg(X, y, r=0.0):\n",
    "        ones = np.ones(X.shape[0])\n",
    "        X = np.column_stack([ones, X])\n",
    "\n",
    "        XTX = X.T.dot(X)\n",
    "        reg = r * np.eye(XTX.shape[0])\n",
    "        XTX = XTX + reg\n",
    "\n",
    "        XTX_inv = np.linalg.inv(XTX)\n",
    "        w = XTX_inv.dot(X.T).dot(y)\n",
    "\n",
    "        return w[0], w[1:]\n",
    "    \n",
    "    rmse_test = 0\n",
    "    \n",
    "    np.random.seed(9)\n",
    "\n",
    "    n = len(df)\n",
    "    n_test = int(0.2 * n)\n",
    "    n_train = n - (n_test)\n",
    "    idx = np.arange(n)\n",
    "\n",
    "    np.random.shuffle(idx)\n",
    "    df_shuffled = df.iloc[idx]\n",
    "\n",
    "    df_train = df_shuffled.iloc[:n_train].copy()\n",
    "    df_test = df_shuffled.iloc[n_train:].copy()\n",
    "\n",
    "    y_train_orig = df_train.price.values\n",
    "    y_test_orig = df_test.price.values\n",
    "\n",
    "    y_train = np.log1p(df_train.price.values)\n",
    "    y_test = np.log1p(df_test.price.values)\n",
    "\n",
    "    del df_train['price']\n",
    "    del df_test['price']\n",
    "\n",
    "    # train\n",
    "    _, X_train = prepare_X(df_train)\n",
    "    w_0, w = train_linear_regression_reg(X_train, y_train, .001)\n",
    "    \n",
    "    \n",
    "    _, X_test = prepare_X(df_test)\n",
    "    y_pred = w_0 + X_test.dot(w)\n",
    "    rmse_test = rmse(y_test, y_pred)\n",
    "    \n",
    "    \n",
    "    return rmse_test"
   ]
  },
  {
   "cell_type": "code",
   "execution_count": 172,
   "id": "a4f0f26b",
   "metadata": {},
   "outputs": [
    {
     "data": {
      "text/plain": [
       "0.6452771348323516"
      ]
     },
     "execution_count": 172,
     "metadata": {},
     "output_type": "execute_result"
    }
   ],
   "source": [
    "train_val_combined(df)"
   ]
  },
  {
   "cell_type": "code",
   "execution_count": null,
   "id": "f2dbe4b4",
   "metadata": {},
   "outputs": [],
   "source": []
  }
 ],
 "metadata": {
  "kernelspec": {
   "display_name": "Python 3 (ipykernel)",
   "language": "python",
   "name": "python3"
  },
  "language_info": {
   "codemirror_mode": {
    "name": "ipython",
    "version": 3
   },
   "file_extension": ".py",
   "mimetype": "text/x-python",
   "name": "python",
   "nbconvert_exporter": "python",
   "pygments_lexer": "ipython3",
   "version": "3.9.7"
  }
 },
 "nbformat": 4,
 "nbformat_minor": 5
}
