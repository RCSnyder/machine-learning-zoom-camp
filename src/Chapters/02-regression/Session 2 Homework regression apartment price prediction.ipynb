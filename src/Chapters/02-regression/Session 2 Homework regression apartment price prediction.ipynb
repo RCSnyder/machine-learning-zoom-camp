{
 "cells": [
  {
   "cell_type": "code",
   "execution_count": 1,
   "id": "fb9749e0",
   "metadata": {},
   "outputs": [],
   "source": [
    "# command for downloading the dataset\n",
    "# curl.exe --output AB_NYC_2019.csv --url https://raw.githubusercontent.com/alexeygrigorev/datasets/master/AB_NYC_2019.csv"
   ]
  },
  {
   "cell_type": "code",
   "execution_count": 2,
   "id": "fd4ca7c0",
   "metadata": {},
   "outputs": [],
   "source": [
    "import numpy as np\n",
    "import pandas as pd\n",
    "from pathlib import Path\n",
    "import os"
   ]
  },
  {
   "cell_type": "code",
   "execution_count": 3,
   "id": "e9c80f7b",
   "metadata": {},
   "outputs": [],
   "source": [
    "data_path = Path(\"Data/AB_NYC_2019.csv\")\n",
    "full_data_path = Path.cwd().parents[1].joinpath(data_path)\n",
    "df = pd.read_csv(full_data_path)"
   ]
  },
  {
   "cell_type": "markdown",
   "id": "53f8505e",
   "metadata": {},
   "source": [
    "### Question 1\n",
    "Find a feature with missing values. How many missing values does it have?"
   ]
  },
  {
   "cell_type": "code",
   "execution_count": null,
   "id": "c4cea212",
   "metadata": {},
   "outputs": [],
   "source": []
  },
  {
   "cell_type": "markdown",
   "id": "6bf89185",
   "metadata": {},
   "source": [
    "### Question 2\n",
    "What's the median (50% percentile) for variable 'minimum_nights'?"
   ]
  },
  {
   "cell_type": "markdown",
   "id": "866b2e20",
   "metadata": {},
   "source": [
    "- Split the data\n",
    "- Shuffle the initial dataset, use seed 42.\n",
    "- Split your data in train/val/test sets, with 60%/20%/20% distribution.\n",
    "- Make sure that the target value ('price') is not in your dataframe.\n",
    "- Apply the log transformation to the price variable using the np.log1p() function.### "
   ]
  },
  {
   "cell_type": "markdown",
   "id": "84b79403",
   "metadata": {},
   "source": [
    "### Question 3\n",
    "- We need to deal with missing values for the column from Q1.\n",
    "- We have two options: fill it with 0 or with the mean of this variable.\n",
    "- Try both options. For each, train a linear regression model without regularization using the code from the lesssons.\n",
    "- For computing the mean, use the training only!\n",
    "- Compare the RMSE of each option.\n",
    "- Round the RMSE scores to 2 decimal digits using round(score, 2)\n",
    "- Which option gives better RMSE?"
   ]
  },
  {
   "cell_type": "markdown",
   "id": "21436364",
   "metadata": {},
   "source": [
    "### Question 4\n",
    "- Now let's train a regularized linear regression.\n",
    "- For this question, fill the NAs with 0.\n",
    "- Try different values of r from this list: [0, 0.000001, 0.0001, 0.001, 0.01, 0.1, 1, 5, 10].\n",
    "- Round the RMSE scores to 2 decimal digits.\n",
    "- Which r gives the best RMSE?\n",
    "- If there are multiple options, select the smallest r."
   ]
  },
  {
   "cell_type": "markdown",
   "id": "7d102380",
   "metadata": {},
   "source": [
    "### Question 5\n",
    "- We used seed 42 for splitting the data. Let's find out how selecting the seed influences our score.\n",
    "- Try different seed values: [0, 1, 2, 3, 4, 5, 6, 7, 8, 9].\n",
    "- For each seed, do the train/validation/test split with 60%/20%/20% distribution.\n",
    "- Fill the missing values with 0 and train a model without regularization.\n",
    "- For each seed, collect the RMSE scores.\n",
    "- What's the standard deviation of all the scores? To compute the standard deviation, use np.std.\n",
    "- Round the result to 3 decimal digits (round(std, 3))\n",
    "\n",
    "\n",
    "Note: Standard deviation shows how different the values are. If it's low, then all values are approximately the same. If it's high, the values are different. If standard deviation of scores is low, then our model is stable."
   ]
  },
  {
   "cell_type": "markdown",
   "id": "78753962",
   "metadata": {},
   "source": [
    "### Question 6\n",
    "- Split the dataset like previously, use seed 9.\n",
    "- Combine train and validation datasets.\n",
    "- Train a model with r=0.001.\n",
    "- What's the RMSE on test dataset?"
   ]
  },
  {
   "cell_type": "markdown",
   "id": "90444698",
   "metadata": {},
   "source": [
    "### "
   ]
  },
  {
   "cell_type": "markdown",
   "id": "c5b1dcc4",
   "metadata": {},
   "source": [
    "### "
   ]
  },
  {
   "cell_type": "code",
   "execution_count": null,
   "id": "5352887b",
   "metadata": {},
   "outputs": [],
   "source": []
  }
 ],
 "metadata": {
  "kernelspec": {
   "display_name": "Python 3 (ipykernel)",
   "language": "python",
   "name": "python3"
  },
  "language_info": {
   "codemirror_mode": {
    "name": "ipython",
    "version": 3
   },
   "file_extension": ".py",
   "mimetype": "text/x-python",
   "name": "python",
   "nbconvert_exporter": "python",
   "pygments_lexer": "ipython3",
   "version": "3.9.6"
  }
 },
 "nbformat": 4,
 "nbformat_minor": 5
}
